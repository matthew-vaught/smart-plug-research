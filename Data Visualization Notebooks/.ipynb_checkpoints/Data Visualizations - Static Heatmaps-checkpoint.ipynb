{
 "cells": [
  {
   "cell_type": "code",
   "execution_count": null,
   "id": "d893763a",
   "metadata": {},
   "outputs": [],
   "source": [
    "import pandas as pd\n",
    "import os\n",
    "import glob\n",
    "\n",
    "merged_df = pd.read_csv('merged_df.csv')"
   ]
  },
  {
   "cell_type": "code",
   "execution_count": null,
   "id": "73d21bb3",
   "metadata": {},
   "outputs": [],
   "source": [
    "# Input the coordinates of all buildings and map them to the corresponding buildings in the df\n",
    "coordinates = {\n",
    "    'Atkinson Hall': (32.882453, -117.234825),\n",
    "    'Center Hall': (32.877752, -117.237283),\n",
    "    'EBU3B': (32.881821, -117.233631),\n",
    "    'Geisel Library': (32.881139, -117.237583),\n",
    "    'IRPS Robinson Hall': (32.884279, -117.240903),\n",
    "    'Jacobs Hall': (32.881661, -117.235306),\n",
    "    'McGill Hall': (32.879026, -117.242079),\n",
    "    'Otterson Hall': (32.886571, -117.241257),\n",
    "    'Price Center West': (32.879806, -117.236182),\n",
    "    'Price Center East Expansion': (32.879743, -117.235688),\n",
    "    'RIMAC': (32.885259, -117.239578),\n",
    "    'EBU2': (32.881180, -117.233053),\n",
    "    'Social Sciences Building': (32.883875, -117.240475),\n",
    "    'Student Services Center': (32.878573, -117.235807),\n",
    "    'Telemed': (32.875191, -117.234783),\n",
    "    'Wells Fargo Hall': (32.886962, -117.241847),\n",
    "}"
   ]
  },
  {
   "cell_type": "code",
   "execution_count": null,
   "id": "8e2856d2",
   "metadata": {},
   "outputs": [],
   "source": [
    "merged_df_printers = merged_df[merged_df['Load_Type'] == 'Printer']\n",
    "merged_df_printers['day_of_week'] = merged_df_printers['time'].dt.day_name()\n",
    "\n",
    "# Add a column for day of the week\n",
    "merged_df_printers['day_of_week'] = merged_df_printers['time'].dt.day_name()\n",
    "\n",
    "# Extract minute of the day\n",
    "merged_df_printers['minute_of_day'] = merged_df_printers['time'].dt.hour * 60 + merged_df_printers['time'].dt.minute"
   ]
  },
  {
   "cell_type": "code",
   "execution_count": null,
   "id": "06e9097e",
   "metadata": {},
   "outputs": [],
   "source": [
    "printer_building_totals_df = merged_df_printers.groupby('building_name').agg({'power_consumption (mW)': 'mean'}).reset_index()\n",
    "printer_building_totals_df['coordinates'] = printer_building_totals_df['building_name'].map(coordinates)"
   ]
  },
  {
   "cell_type": "code",
   "execution_count": null,
   "id": "cb6ff205",
   "metadata": {},
   "outputs": [],
   "source": [
    "import folium\n",
    "from folium.plugins import HeatMap\n",
    "\n",
    "# Create a map centered around the campus (or a general center point)\n",
    "m = folium.Map(location=[32.880000, -117.235000], zoom_start=15)\n",
    "\n",
    "# Prepare data for heatmap (coordinates, weight)\n",
    "heat_data = [[row['coordinates'][0], row['coordinates'][1], row['power_consumption (mW)']] for index, row in printer_building_totals_df.iterrows()]\n",
    "\n",
    "# Add heatmap layer to the map\n",
    "HeatMap(heat_data).add_to(m)\n",
    "\n",
    "# Add markers with labels for each building\n",
    "for index, row in printer_building_totals_df.iterrows():\n",
    "    folium.Marker(\n",
    "        location=row['coordinates'],\n",
    "        popup=f\"{row['building_name']}<br>Power Consumption: {row['power_consumption (mW)']:.0f} mW\",\n",
    "        tooltip=row['building_name'],  # Tooltip to display on hover\n",
    "    ).add_to(m)\n",
    "\n",
    "# Display map\n",
    "m.save('printer_power_consumption_heatmap.html')"
   ]
  },
  {
   "cell_type": "code",
   "execution_count": null,
   "id": "ea72361a",
   "metadata": {},
   "outputs": [],
   "source": [
    "merged_df_tvs = merged_df[merged_df['Load_Type'] == 'TV']\n",
    "merged_df_tvs['day_of_week'] = merged_df_tvs['time'].dt.day_name()\n",
    "\n",
    "# Add a column for day of the week\n",
    "merged_df_tvs['day_of_week'] = merged_df_tvs['time'].dt.day_name()\n",
    "\n",
    "# Extract minute of the day\n",
    "merged_df_tvs['minute_of_day'] = merged_df_tvs['time'].dt.hour * 60 + merged_df_tvs['time'].dt.minute"
   ]
  },
  {
   "cell_type": "code",
   "execution_count": null,
   "id": "5536c74a",
   "metadata": {},
   "outputs": [],
   "source": [
    "tv_building_totals_df = merged_df_tvs.groupby('building_name').agg({'power_consumption (mW)': 'mean'}).reset_index()\n",
    "tv_building_totals_df['coordinates'] = tv_building_totals_df['building_name'].map(coordinates)"
   ]
  },
  {
   "cell_type": "code",
   "execution_count": null,
   "id": "7a91c0ee",
   "metadata": {},
   "outputs": [],
   "source": [
    "# Create a map centered around the campus (or a general center point)\n",
    "m = folium.Map(location=[32.880000, -117.235000], zoom_start=15)\n",
    "\n",
    "# Prepare data for heatmap (coordinates, weight)\n",
    "heat_data = [[row['coordinates'][0], row['coordinates'][1], row['power_consumption (mW)']] for index, row in tv_building_totals_df.iterrows()]\n",
    "\n",
    "# Add heatmap layer to the map\n",
    "HeatMap(heat_data).add_to(m)\n",
    "\n",
    "# Add markers with labels for each building\n",
    "for index, row in tv_building_totals_df.iterrows():\n",
    "    folium.Marker(\n",
    "        location=row['coordinates'],\n",
    "        popup=f\"{row['building_name']}<br>Power Consumption: {row['power_consumption (mW)']:.0f} mW\",\n",
    "        tooltip=row['building_name'],  # Tooltip to display on hover\n",
    "    ).add_to(m)\n",
    "\n",
    "# Display map\n",
    "m.save('tv_power_consumption_heatmap.html')"
   ]
  }
 ],
 "metadata": {
  "kernelspec": {
   "display_name": "Python 3 (ipykernel)",
   "language": "python",
   "name": "python3"
  },
  "language_info": {
   "codemirror_mode": {
    "name": "ipython",
    "version": 3
   },
   "file_extension": ".py",
   "mimetype": "text/x-python",
   "name": "python",
   "nbconvert_exporter": "python",
   "pygments_lexer": "ipython3",
   "version": "3.11.4"
  }
 },
 "nbformat": 4,
 "nbformat_minor": 5
}
