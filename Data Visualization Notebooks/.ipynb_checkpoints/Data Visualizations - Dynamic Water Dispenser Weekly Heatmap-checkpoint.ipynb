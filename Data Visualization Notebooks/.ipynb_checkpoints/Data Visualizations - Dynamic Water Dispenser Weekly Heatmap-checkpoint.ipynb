{
 "cells": [
  {
   "cell_type": "code",
   "execution_count": 1,
   "id": "a75f91eb",
   "metadata": {},
   "outputs": [],
   "source": [
    "import pandas as pd\n",
    "import os\n",
    "import glob\n",
    "\n",
    "# Specify the path to your main folder containing subfolders with CSV files\n",
    "main_path = r'C:\\ResearchFiles\\AllFiles_Cleaned'\n",
    "\n",
    "# Recursively search for all CSV files in the subfolders\n",
    "all_files = [f for f in glob.glob(os.path.join(main_path, \"**/*.csv\"), recursive=True)]\n",
    "\n",
    "# Combine all files into a single DataFrame\n",
    "df_list = []\n",
    "for filename in all_files:\n",
    "    df = pd.read_csv(filename)\n",
    "    df['smart_plug'] = os.path.basename(filename).split('_')[1]  # Add a column for the smart plug identifier\n",
    "    # Optionally, add a column for the building by extracting from the path\n",
    "    df['building'] = os.path.basename(os.path.dirname(filename))\n",
    "    df_list.append(df)\n",
    "\n",
    "combined_df = pd.concat(df_list, ignore_index=True)"
   ]
  },
  {
   "cell_type": "code",
   "execution_count": 2,
   "id": "718692e3",
   "metadata": {},
   "outputs": [],
   "source": [
    "# Remove unneccessary columns\n",
    "combined_df = combined_df.drop(columns = ['analogInput_2', 'analogInput_4', 'analogInput_5', 'binaryInput_3', 'binaryValue_1', 'building'])\n",
    "\n",
    "# Convert timestamp column to datetime\n",
    "combined_df['time'] = pd.to_datetime(combined_df['time'])\n",
    "\n",
    "# Rename the power consumption column more appropriately\n",
    "combined_df = combined_df.rename(columns = {'analogInput_3': 'power_consumption (mW)'})"
   ]
  },
  {
   "cell_type": "code",
   "execution_count": 3,
   "id": "c46986b4",
   "metadata": {},
   "outputs": [],
   "source": [
    "# Import the device type for each plug\n",
    "device_types = pd.read_csv(r'C:\\Users\\vaugh\\Downloads\\helper_spreadsheet(7).csv')\n",
    "\n",
    "# Rename the device id column to 'smart_plug' to match the other df and Building_Name to building_name\n",
    "device_types.rename(columns = {'Bacnet_ID': 'smart_plug'}, inplace=True)\n",
    "device_types.rename(columns = {'Building_Name': 'building_name'}, inplace=True)"
   ]
  },
  {
   "cell_type": "code",
   "execution_count": 4,
   "id": "675dd708",
   "metadata": {
    "scrolled": true
   },
   "outputs": [
    {
     "data": {
      "text/html": [
       "<div>\n",
       "<style scoped>\n",
       "    .dataframe tbody tr th:only-of-type {\n",
       "        vertical-align: middle;\n",
       "    }\n",
       "\n",
       "    .dataframe tbody tr th {\n",
       "        vertical-align: top;\n",
       "    }\n",
       "\n",
       "    .dataframe thead th {\n",
       "        text-align: right;\n",
       "    }\n",
       "</style>\n",
       "<table border=\"1\" class=\"dataframe\">\n",
       "  <thead>\n",
       "    <tr style=\"text-align: right;\">\n",
       "      <th></th>\n",
       "      <th>smart_plug</th>\n",
       "      <th>Load_Type</th>\n",
       "      <th>building_name</th>\n",
       "    </tr>\n",
       "  </thead>\n",
       "  <tbody>\n",
       "    <tr>\n",
       "      <th>0</th>\n",
       "      <td>291824.0</td>\n",
       "      <td>Computer</td>\n",
       "      <td>Atkinson Hall</td>\n",
       "    </tr>\n",
       "    <tr>\n",
       "      <th>1</th>\n",
       "      <td>291956.0</td>\n",
       "      <td>Printer</td>\n",
       "      <td>Atkinson Hall</td>\n",
       "    </tr>\n",
       "    <tr>\n",
       "      <th>2</th>\n",
       "      <td>292032.0</td>\n",
       "      <td>Printer</td>\n",
       "      <td>Atkinson Hall</td>\n",
       "    </tr>\n",
       "    <tr>\n",
       "      <th>3</th>\n",
       "      <td>183436.0</td>\n",
       "      <td>Water Dispenser</td>\n",
       "      <td>Atkinson Hall</td>\n",
       "    </tr>\n",
       "    <tr>\n",
       "      <th>4</th>\n",
       "      <td>181084.0</td>\n",
       "      <td>TV</td>\n",
       "      <td>Atkinson Hall</td>\n",
       "    </tr>\n",
       "    <tr>\n",
       "      <th>...</th>\n",
       "      <td>...</td>\n",
       "      <td>...</td>\n",
       "      <td>...</td>\n",
       "    </tr>\n",
       "    <tr>\n",
       "      <th>776</th>\n",
       "      <td>289580.0</td>\n",
       "      <td>Computer</td>\n",
       "      <td>Wells Fargo Hall</td>\n",
       "    </tr>\n",
       "    <tr>\n",
       "      <th>777</th>\n",
       "      <td>182376.0</td>\n",
       "      <td>Printer</td>\n",
       "      <td>Wells Fargo Hall</td>\n",
       "    </tr>\n",
       "    <tr>\n",
       "      <th>778</th>\n",
       "      <td>181180.0</td>\n",
       "      <td>TV</td>\n",
       "      <td>Wells Fargo Hall</td>\n",
       "    </tr>\n",
       "    <tr>\n",
       "      <th>779</th>\n",
       "      <td>190412.0</td>\n",
       "      <td>Computer</td>\n",
       "      <td>Wells Fargo Hall</td>\n",
       "    </tr>\n",
       "    <tr>\n",
       "      <th>780</th>\n",
       "      <td>638864.0</td>\n",
       "      <td>Printer</td>\n",
       "      <td>Wells Fargo Hall</td>\n",
       "    </tr>\n",
       "  </tbody>\n",
       "</table>\n",
       "<p>781 rows × 3 columns</p>\n",
       "</div>"
      ],
      "text/plain": [
       "     smart_plug        Load_Type     building_name\n",
       "0      291824.0         Computer     Atkinson Hall\n",
       "1      291956.0          Printer     Atkinson Hall\n",
       "2      292032.0          Printer     Atkinson Hall\n",
       "3      183436.0  Water Dispenser     Atkinson Hall\n",
       "4      181084.0               TV     Atkinson Hall\n",
       "..          ...              ...               ...\n",
       "776    289580.0         Computer  Wells Fargo Hall\n",
       "777    182376.0          Printer  Wells Fargo Hall\n",
       "778    181180.0               TV  Wells Fargo Hall\n",
       "779    190412.0         Computer  Wells Fargo Hall\n",
       "780    638864.0          Printer  Wells Fargo Hall\n",
       "\n",
       "[781 rows x 3 columns]"
      ]
     },
     "execution_count": 4,
     "metadata": {},
     "output_type": "execute_result"
    }
   ],
   "source": [
    "device_types"
   ]
  },
  {
   "cell_type": "code",
   "execution_count": 5,
   "id": "302cca08",
   "metadata": {},
   "outputs": [],
   "source": [
    "# Ensure both smart plug columns have string values to enable merging, and remove the decimals from the device_types df\n",
    "combined_df['smart_plug'] = combined_df['smart_plug'].astype(str)\n",
    "device_types['smart_plug'] = device_types['smart_plug'].astype(str)\n",
    "device_types['smart_plug'] = device_types['smart_plug'].str[:-2]\n",
    "\n",
    "# Merge the two dataframes and then filter out all devices except water dispensers\n",
    "merged_df = pd.merge(combined_df, device_types, on='smart_plug')\n",
    "merged_df = merged_df[merged_df['Load_Type'] == 'Water Dispenser']"
   ]
  },
  {
   "cell_type": "code",
   "execution_count": 6,
   "id": "1a269773",
   "metadata": {},
   "outputs": [
    {
     "data": {
      "text/html": [
       "<div>\n",
       "<style scoped>\n",
       "    .dataframe tbody tr th:only-of-type {\n",
       "        vertical-align: middle;\n",
       "    }\n",
       "\n",
       "    .dataframe tbody tr th {\n",
       "        vertical-align: top;\n",
       "    }\n",
       "\n",
       "    .dataframe thead th {\n",
       "        text-align: right;\n",
       "    }\n",
       "</style>\n",
       "<table border=\"1\" class=\"dataframe\">\n",
       "  <thead>\n",
       "    <tr style=\"text-align: right;\">\n",
       "      <th></th>\n",
       "      <th>time</th>\n",
       "      <th>power_consumption (mW)</th>\n",
       "      <th>smart_plug</th>\n",
       "      <th>Load_Type</th>\n",
       "      <th>building_name</th>\n",
       "    </tr>\n",
       "  </thead>\n",
       "  <tbody>\n",
       "    <tr>\n",
       "      <th>2000541</th>\n",
       "      <td>2023-09-15 17:25:00</td>\n",
       "      <td>6490.0</td>\n",
       "      <td>182728</td>\n",
       "      <td>Water Dispenser</td>\n",
       "      <td>Atkinson Hall</td>\n",
       "    </tr>\n",
       "    <tr>\n",
       "      <th>2000542</th>\n",
       "      <td>2023-09-15 17:26:00</td>\n",
       "      <td>6490.0</td>\n",
       "      <td>182728</td>\n",
       "      <td>Water Dispenser</td>\n",
       "      <td>Atkinson Hall</td>\n",
       "    </tr>\n",
       "    <tr>\n",
       "      <th>2000543</th>\n",
       "      <td>2023-09-15 17:27:00</td>\n",
       "      <td>7080.0</td>\n",
       "      <td>182728</td>\n",
       "      <td>Water Dispenser</td>\n",
       "      <td>Atkinson Hall</td>\n",
       "    </tr>\n",
       "    <tr>\n",
       "      <th>2000544</th>\n",
       "      <td>2023-09-15 17:28:00</td>\n",
       "      <td>6608.0</td>\n",
       "      <td>182728</td>\n",
       "      <td>Water Dispenser</td>\n",
       "      <td>Atkinson Hall</td>\n",
       "    </tr>\n",
       "    <tr>\n",
       "      <th>2000545</th>\n",
       "      <td>2023-09-15 17:29:00</td>\n",
       "      <td>186320.0</td>\n",
       "      <td>182728</td>\n",
       "      <td>Water Dispenser</td>\n",
       "      <td>Atkinson Hall</td>\n",
       "    </tr>\n",
       "    <tr>\n",
       "      <th>...</th>\n",
       "      <td>...</td>\n",
       "      <td>...</td>\n",
       "      <td>...</td>\n",
       "      <td>...</td>\n",
       "      <td>...</td>\n",
       "    </tr>\n",
       "    <tr>\n",
       "      <th>184517660</th>\n",
       "      <td>2024-06-10 23:55:00</td>\n",
       "      <td>0.0</td>\n",
       "      <td>564316</td>\n",
       "      <td>Water Dispenser</td>\n",
       "      <td>Telemed</td>\n",
       "    </tr>\n",
       "    <tr>\n",
       "      <th>184517661</th>\n",
       "      <td>2024-06-10 23:56:00</td>\n",
       "      <td>0.0</td>\n",
       "      <td>564316</td>\n",
       "      <td>Water Dispenser</td>\n",
       "      <td>Telemed</td>\n",
       "    </tr>\n",
       "    <tr>\n",
       "      <th>184517662</th>\n",
       "      <td>2024-06-10 23:57:00</td>\n",
       "      <td>0.0</td>\n",
       "      <td>564316</td>\n",
       "      <td>Water Dispenser</td>\n",
       "      <td>Telemed</td>\n",
       "    </tr>\n",
       "    <tr>\n",
       "      <th>184517663</th>\n",
       "      <td>2024-06-10 23:58:00</td>\n",
       "      <td>0.0</td>\n",
       "      <td>564316</td>\n",
       "      <td>Water Dispenser</td>\n",
       "      <td>Telemed</td>\n",
       "    </tr>\n",
       "    <tr>\n",
       "      <th>184517664</th>\n",
       "      <td>2024-06-10 23:59:00</td>\n",
       "      <td>0.0</td>\n",
       "      <td>564316</td>\n",
       "      <td>Water Dispenser</td>\n",
       "      <td>Telemed</td>\n",
       "    </tr>\n",
       "  </tbody>\n",
       "</table>\n",
       "<p>17540354 rows × 5 columns</p>\n",
       "</div>"
      ],
      "text/plain": [
       "                         time  power_consumption (mW) smart_plug  \\\n",
       "2000541   2023-09-15 17:25:00                  6490.0     182728   \n",
       "2000542   2023-09-15 17:26:00                  6490.0     182728   \n",
       "2000543   2023-09-15 17:27:00                  7080.0     182728   \n",
       "2000544   2023-09-15 17:28:00                  6608.0     182728   \n",
       "2000545   2023-09-15 17:29:00                186320.0     182728   \n",
       "...                       ...                     ...        ...   \n",
       "184517660 2024-06-10 23:55:00                     0.0     564316   \n",
       "184517661 2024-06-10 23:56:00                     0.0     564316   \n",
       "184517662 2024-06-10 23:57:00                     0.0     564316   \n",
       "184517663 2024-06-10 23:58:00                     0.0     564316   \n",
       "184517664 2024-06-10 23:59:00                     0.0     564316   \n",
       "\n",
       "                 Load_Type  building_name  \n",
       "2000541    Water Dispenser  Atkinson Hall  \n",
       "2000542    Water Dispenser  Atkinson Hall  \n",
       "2000543    Water Dispenser  Atkinson Hall  \n",
       "2000544    Water Dispenser  Atkinson Hall  \n",
       "2000545    Water Dispenser  Atkinson Hall  \n",
       "...                    ...            ...  \n",
       "184517660  Water Dispenser        Telemed  \n",
       "184517661  Water Dispenser        Telemed  \n",
       "184517662  Water Dispenser        Telemed  \n",
       "184517663  Water Dispenser        Telemed  \n",
       "184517664  Water Dispenser        Telemed  \n",
       "\n",
       "[17540354 rows x 5 columns]"
      ]
     },
     "execution_count": 6,
     "metadata": {},
     "output_type": "execute_result"
    }
   ],
   "source": [
    "merged_df"
   ]
  },
  {
   "cell_type": "code",
   "execution_count": 7,
   "id": "22e5a7fc",
   "metadata": {},
   "outputs": [],
   "source": [
    "merged_df['day_of_week'] = merged_df['time'].dt.day_name()\n",
    "\n",
    "# Aggregate power consumption by day of the week and building\n",
    "weekly_data = merged_df.groupby(['building_name', 'day_of_week']).agg({'power_consumption (mW)': 'mean'}).reset_index()"
   ]
  },
  {
   "cell_type": "code",
   "execution_count": 8,
   "id": "6ed7a817",
   "metadata": {
    "scrolled": false
   },
   "outputs": [
    {
     "data": {
      "text/html": [
       "<div>\n",
       "<style scoped>\n",
       "    .dataframe tbody tr th:only-of-type {\n",
       "        vertical-align: middle;\n",
       "    }\n",
       "\n",
       "    .dataframe tbody tr th {\n",
       "        vertical-align: top;\n",
       "    }\n",
       "\n",
       "    .dataframe thead th {\n",
       "        text-align: right;\n",
       "    }\n",
       "</style>\n",
       "<table border=\"1\" class=\"dataframe\">\n",
       "  <thead>\n",
       "    <tr style=\"text-align: right;\">\n",
       "      <th></th>\n",
       "      <th>building_name</th>\n",
       "      <th>day_of_week</th>\n",
       "      <th>power_consumption (mW)</th>\n",
       "    </tr>\n",
       "  </thead>\n",
       "  <tbody>\n",
       "    <tr>\n",
       "      <th>0</th>\n",
       "      <td>Atkinson Hall</td>\n",
       "      <td>Friday</td>\n",
       "      <td>46586.898606</td>\n",
       "    </tr>\n",
       "    <tr>\n",
       "      <th>1</th>\n",
       "      <td>Atkinson Hall</td>\n",
       "      <td>Monday</td>\n",
       "      <td>52024.978525</td>\n",
       "    </tr>\n",
       "    <tr>\n",
       "      <th>2</th>\n",
       "      <td>Atkinson Hall</td>\n",
       "      <td>Saturday</td>\n",
       "      <td>37590.115623</td>\n",
       "    </tr>\n",
       "    <tr>\n",
       "      <th>3</th>\n",
       "      <td>Atkinson Hall</td>\n",
       "      <td>Sunday</td>\n",
       "      <td>36791.276176</td>\n",
       "    </tr>\n",
       "    <tr>\n",
       "      <th>4</th>\n",
       "      <td>Atkinson Hall</td>\n",
       "      <td>Thursday</td>\n",
       "      <td>52321.931762</td>\n",
       "    </tr>\n",
       "    <tr>\n",
       "      <th>...</th>\n",
       "      <td>...</td>\n",
       "      <td>...</td>\n",
       "      <td>...</td>\n",
       "    </tr>\n",
       "    <tr>\n",
       "      <th>65</th>\n",
       "      <td>Telemed</td>\n",
       "      <td>Saturday</td>\n",
       "      <td>92000.591063</td>\n",
       "    </tr>\n",
       "    <tr>\n",
       "      <th>66</th>\n",
       "      <td>Telemed</td>\n",
       "      <td>Sunday</td>\n",
       "      <td>93708.356400</td>\n",
       "    </tr>\n",
       "    <tr>\n",
       "      <th>67</th>\n",
       "      <td>Telemed</td>\n",
       "      <td>Thursday</td>\n",
       "      <td>98604.715007</td>\n",
       "    </tr>\n",
       "    <tr>\n",
       "      <th>68</th>\n",
       "      <td>Telemed</td>\n",
       "      <td>Tuesday</td>\n",
       "      <td>96508.659519</td>\n",
       "    </tr>\n",
       "    <tr>\n",
       "      <th>69</th>\n",
       "      <td>Telemed</td>\n",
       "      <td>Wednesday</td>\n",
       "      <td>95592.998299</td>\n",
       "    </tr>\n",
       "  </tbody>\n",
       "</table>\n",
       "<p>70 rows × 3 columns</p>\n",
       "</div>"
      ],
      "text/plain": [
       "    building_name day_of_week  power_consumption (mW)\n",
       "0   Atkinson Hall      Friday            46586.898606\n",
       "1   Atkinson Hall      Monday            52024.978525\n",
       "2   Atkinson Hall    Saturday            37590.115623\n",
       "3   Atkinson Hall      Sunday            36791.276176\n",
       "4   Atkinson Hall    Thursday            52321.931762\n",
       "..            ...         ...                     ...\n",
       "65        Telemed    Saturday            92000.591063\n",
       "66        Telemed      Sunday            93708.356400\n",
       "67        Telemed    Thursday            98604.715007\n",
       "68        Telemed     Tuesday            96508.659519\n",
       "69        Telemed   Wednesday            95592.998299\n",
       "\n",
       "[70 rows x 3 columns]"
      ]
     },
     "execution_count": 8,
     "metadata": {},
     "output_type": "execute_result"
    }
   ],
   "source": [
    "weekly_data"
   ]
  },
  {
   "cell_type": "code",
   "execution_count": 9,
   "id": "a2fbb4be",
   "metadata": {},
   "outputs": [],
   "source": [
    "# Add a column for day of the week\n",
    "merged_df = merged_df.copy()  # Create a copy to avoid SettingWithCopyWarning\n",
    "merged_df['day_of_week'] = merged_df['time'].dt.day_name()\n",
    "\n",
    "# Extract minute of the day\n",
    "merged_df['minute_of_day'] = merged_df['time'].dt.hour * 60 + merged_df['time'].dt.minute"
   ]
  },
  {
   "cell_type": "code",
   "execution_count": 10,
   "id": "e63f41b4",
   "metadata": {},
   "outputs": [],
   "source": [
    "# Calculate weekly average power consumption for each building\n",
    "weekly_avg = merged_df.groupby('building_name').agg({'power_consumption (mW)': 'mean'}).reset_index()\n",
    "weekly_avg.rename(columns={'power_consumption (mW)': 'weekly_avg_consumption'}, inplace=True)\n",
    "\n",
    "# Merge weekly average with daily data\n",
    "daily_data = merged_df.groupby(['building_name', 'day_of_week']).agg({'power_consumption (mW)': 'mean'}).reset_index()\n",
    "daily_data = daily_data.merge(weekly_avg, on='building_name')\n",
    "\n",
    "# Calculate normalized consumption\n",
    "daily_data['normalized_consumption'] = daily_data['power_consumption (mW)'] / daily_data['weekly_avg_consumption']"
   ]
  },
  {
   "cell_type": "code",
   "execution_count": null,
   "id": "7e18390b",
   "metadata": {},
   "outputs": [],
   "source": [
    "daily_data"
   ]
  },
  {
   "cell_type": "code",
   "execution_count": null,
   "id": "60379596",
   "metadata": {},
   "outputs": [],
   "source": [
    "weekly_avg"
   ]
  },
  {
   "cell_type": "code",
   "execution_count": 11,
   "id": "4cb420c4",
   "metadata": {},
   "outputs": [],
   "source": [
    "# Input the coordinates of all buildings and map them to the corresponding buildings in the df\n",
    "coordinates = {\n",
    "    'Atkinson Hall': (32.882453, -117.234825),\n",
    "    'Center Hall': (32.877752, -117.237283),\n",
    "    'EBU3B': (32.881821, -117.233631),\n",
    "    'Geisel Library': (32.881139, -117.237583),\n",
    "    'IRPS Robinson Hall': (32.884279, -117.240903),\n",
    "    'Jacobs Hall': (32.881661, -117.235306),\n",
    "    'McGill Hall': (32.879026, -117.242079),\n",
    "    'Otterson Hall': (32.886571, -117.241257),\n",
    "    'Price Center West': (32.879806, -117.236182),\n",
    "    'Price Center East Expansion': (32.879743, -117.235688),\n",
    "    'RIMAC': (32.885259, -117.239578),\n",
    "    'EBU2': (32.881180, -117.233053),\n",
    "    'Social Sciences Building': (32.883875, -117.240475),\n",
    "    'Student Services Center': (32.878573, -117.235807),\n",
    "    'Telemed': (32.875191, -117.234783),\n",
    "    'Wells Fargo Hall': (32.886962, -117.241847),\n",
    "}"
   ]
  },
  {
   "cell_type": "code",
   "execution_count": null,
   "id": "312d530e",
   "metadata": {},
   "outputs": [],
   "source": [
    "import folium\n",
    "from folium.plugins import HeatMap\n",
    "\n",
    "def create_heatmap(day_of_week):\n",
    "    # Filter data for the selected day of the week\n",
    "    day_data = daily_data[daily_data['day_of_week'] == day_of_week].copy()  # Use .copy() to avoid warnings\n",
    "    \n",
    "    # Get coordinates for buildings\n",
    "    day_data['coordinates'] = day_data['building_name'].map(coordinates)\n",
    "    \n",
    "    # Prepare data for the heatmap\n",
    "    heat_data = [[row['coordinates'][0], row['coordinates'][1], row['normalized_consumption']] for index, row in day_data.iterrows()]\n",
    "    \n",
    "    # Create a base map\n",
    "    m = folium.Map(location=[32.880000, -117.235000], zoom_start=15)  # Adjust to your campus center coordinates\n",
    "    \n",
    "    # Add the heatmap layer\n",
    "    HeatMap(heat_data, min_opacity=0.2, radius=15, blur=10).add_to(m)\n",
    "    \n",
    "    return m"
   ]
  },
  {
   "cell_type": "code",
   "execution_count": null,
   "id": "d4e89b9b",
   "metadata": {},
   "outputs": [],
   "source": [
    "from dash import Dash, dcc, html\n",
    "import dash\n",
    "import dash_bootstrap_components as dbc\n",
    "\n",
    "app = Dash(__name__, external_stylesheets=[dbc.themes.BOOTSTRAP])\n",
    "\n",
    "app.layout = html.Div([\n",
    "    dcc.Dropdown(\n",
    "        id='day-dropdown',\n",
    "        options=[{'label': day, 'value': day} for day in weekly_data['day_of_week'].unique()],\n",
    "        value=weekly_data['day_of_week'].unique()[0]\n",
    "    ),\n",
    "    html.Iframe(id='heatmap', srcDoc=create_heatmap(weekly_data['day_of_week'].unique()[0])._repr_html_(), width='100%', height='600px')\n",
    "])\n",
    "\n",
    "@app.callback(\n",
    "    dash.dependencies.Output('heatmap', 'srcDoc'),\n",
    "    [dash.dependencies.Input('day-dropdown', 'value')]\n",
    ")\n",
    "def update_heatmap(day_of_week):\n",
    "    return create_heatmap(day_of_week)._repr_html_()\n",
    "\n",
    "if __name__ == '__main__':\n",
    "    app.run_server(debug=True)"
   ]
  },
  {
   "cell_type": "code",
   "execution_count": null,
   "id": "8f70ae9d",
   "metadata": {},
   "outputs": [],
   "source": []
  },
  {
   "cell_type": "code",
   "execution_count": null,
   "id": "daeb0181",
   "metadata": {},
   "outputs": [],
   "source": []
  },
  {
   "cell_type": "code",
   "execution_count": null,
   "id": "cfd558f2",
   "metadata": {},
   "outputs": [],
   "source": []
  },
  {
   "cell_type": "code",
   "execution_count": null,
   "id": "19cdeafd",
   "metadata": {},
   "outputs": [],
   "source": [
    "merged_df"
   ]
  },
  {
   "cell_type": "code",
   "execution_count": null,
   "id": "02751c4d",
   "metadata": {},
   "outputs": [],
   "source": [
    "building_totals_df = merged_df.groupby('building_name').agg({'power_consumption (mW)': 'mean'}).reset_index()\n",
    "building_totals_df['coordinates'] = building_totals_df['building_name'].map(coordinates)"
   ]
  },
  {
   "cell_type": "code",
   "execution_count": null,
   "id": "b10f2595",
   "metadata": {
    "scrolled": true
   },
   "outputs": [],
   "source": [
    "building_totals_df"
   ]
  },
  {
   "cell_type": "code",
   "execution_count": null,
   "id": "efc40f11",
   "metadata": {},
   "outputs": [],
   "source": [
    "# Create a map centered around the campus (or a general center point)\n",
    "m = folium.Map(location=[32.880000, -117.235000], zoom_start=15)\n",
    "\n",
    "# Prepare data for heatmap (coordinates, weight)\n",
    "heat_data = [[row['coordinates'][0], row['coordinates'][1], row['power_consumption (mW)']] for index, row in building_totals_df.iterrows()]\n",
    "\n",
    "# Add heatmap layer to the map\n",
    "HeatMap(heat_data).add_to(m)\n",
    "\n",
    "# Add markers with labels for each building\n",
    "for index, row in building_totals_df.iterrows():\n",
    "    folium.Marker(\n",
    "        location=row['coordinates'],\n",
    "        popup=f\"{row['building_name']}<br>Power Consumption: {row['power_consumption (mW)']:.0f} mW\",\n",
    "        tooltip=row['building_name'],  # Tooltip to display on hover\n",
    "    ).add_to(m)\n",
    "\n",
    "# Display map\n",
    "m.save('power_consumption_heatmap_with_labels.html')"
   ]
  },
  {
   "cell_type": "code",
   "execution_count": null,
   "id": "c51e90eb",
   "metadata": {},
   "outputs": [],
   "source": []
  },
  {
   "cell_type": "code",
   "execution_count": null,
   "id": "6333dc52",
   "metadata": {},
   "outputs": [],
   "source": []
  },
  {
   "cell_type": "code",
   "execution_count": null,
   "id": "d9471500",
   "metadata": {},
   "outputs": [],
   "source": []
  },
  {
   "cell_type": "code",
   "execution_count": 12,
   "id": "bbf7743c",
   "metadata": {},
   "outputs": [],
   "source": [
    "# Create a new df just for computers\n",
    "merged_df_computers = pd.merge(combined_df, device_types, on='smart_plug')\n",
    "merged_df_computers = merged_df_computers[merged_df_computers['Load_Type'] == 'Computer']\n",
    "merged_df_computers['day_of_week'] = merged_df_computers['time'].dt.day_name()\n",
    "\n",
    "# Add a column for day of the week\n",
    "merged_df_computers = merged_df_computers.copy()  # Create a copy to avoid SettingWithCopyWarning\n",
    "merged_df_computers['day_of_week'] = merged_df_computers['time'].dt.day_name()\n",
    "\n",
    "# Extract minute of the day\n",
    "merged_df_computers['minute_of_day'] = merged_df_computers['time'].dt.hour * 60 + merged_df_computers['time'].dt.minute"
   ]
  },
  {
   "cell_type": "code",
   "execution_count": 13,
   "id": "7de65df9",
   "metadata": {},
   "outputs": [],
   "source": [
    "computer_building_totals_df = merged_df_computers.groupby('building_name').agg({'power_consumption (mW)': 'mean'}).reset_index()\n",
    "computer_building_totals_df['coordinates'] = computer_building_totals_df['building_name'].map(coordinates)"
   ]
  },
  {
   "cell_type": "code",
   "execution_count": 17,
   "id": "5821a6ba",
   "metadata": {},
   "outputs": [],
   "source": [
    "import folium\n",
    "from folium.plugins import HeatMap\n",
    "\n",
    "# Create a map centered around the campus (or a general center point)\n",
    "m = folium.Map(location=[32.880000, -117.235000], zoom_start=15)\n",
    "\n",
    "# Prepare data for heatmap (coordinates, weight)\n",
    "heat_data = [[row['coordinates'][0], row['coordinates'][1], row['power_consumption (mW)']] for index, row in computer_building_totals_df.iterrows()]\n",
    "\n",
    "# Add heatmap layer to the map\n",
    "HeatMap(heat_data).add_to(m)\n",
    "\n",
    "# Add markers with labels for each building\n",
    "for index, row in computer_building_totals_df.iterrows():\n",
    "    folium.Marker(\n",
    "        location=row['coordinates'],\n",
    "        popup=f\"{row['building_name']}<br>Power Consumption: {row['power_consumption (mW)']:.0f} mW\",\n",
    "        tooltip=row['building_name'],  # Tooltip to display on hover\n",
    "    ).add_to(m)\n",
    "\n",
    "# Display map\n",
    "m.save('computer_power_consumption_heatmap.html')"
   ]
  },
  {
   "cell_type": "code",
   "execution_count": null,
   "id": "11ab5a36",
   "metadata": {},
   "outputs": [],
   "source": []
  },
  {
   "cell_type": "code",
   "execution_count": 13,
   "id": "24379b1b",
   "metadata": {},
   "outputs": [
    {
     "ename": "MemoryError",
     "evalue": "Unable to allocate 1.43 GiB for an array with shape (192094934,) and data type int64",
     "output_type": "error",
     "traceback": [
      "\u001b[1;31m---------------------------------------------------------------------------\u001b[0m",
      "\u001b[1;31mMemoryError\u001b[0m                               Traceback (most recent call last)",
      "Cell \u001b[1;32mIn[13], line 2\u001b[0m\n\u001b[0;32m      1\u001b[0m \u001b[38;5;66;03m# Create a new df just for computers\u001b[39;00m\n\u001b[1;32m----> 2\u001b[0m merged_df_printers \u001b[38;5;241m=\u001b[39m pd\u001b[38;5;241m.\u001b[39mmerge(combined_df, device_types, on\u001b[38;5;241m=\u001b[39m\u001b[38;5;124m'\u001b[39m\u001b[38;5;124msmart_plug\u001b[39m\u001b[38;5;124m'\u001b[39m)\n\u001b[0;32m      3\u001b[0m merged_df_printers \u001b[38;5;241m=\u001b[39m merged_df_printers[merged_df_printers[\u001b[38;5;124m'\u001b[39m\u001b[38;5;124mLoad_Type\u001b[39m\u001b[38;5;124m'\u001b[39m] \u001b[38;5;241m==\u001b[39m \u001b[38;5;124m'\u001b[39m\u001b[38;5;124mPrinter\u001b[39m\u001b[38;5;124m'\u001b[39m]\n\u001b[0;32m      4\u001b[0m merged_df_printers[\u001b[38;5;124m'\u001b[39m\u001b[38;5;124mday_of_week\u001b[39m\u001b[38;5;124m'\u001b[39m] \u001b[38;5;241m=\u001b[39m merged_df_printers[\u001b[38;5;124m'\u001b[39m\u001b[38;5;124mtime\u001b[39m\u001b[38;5;124m'\u001b[39m]\u001b[38;5;241m.\u001b[39mdt\u001b[38;5;241m.\u001b[39mday_name()\n",
      "File \u001b[1;32m~\\anaconda3\\Lib\\site-packages\\pandas\\core\\reshape\\merge.py:124\u001b[0m, in \u001b[0;36mmerge\u001b[1;34m(left, right, how, on, left_on, right_on, left_index, right_index, sort, suffixes, copy, indicator, validate)\u001b[0m\n\u001b[0;32m     93\u001b[0m \u001b[38;5;129m@Substitution\u001b[39m(\u001b[38;5;124m\"\u001b[39m\u001b[38;5;130;01m\\n\u001b[39;00m\u001b[38;5;124mleft : DataFrame or named Series\u001b[39m\u001b[38;5;124m\"\u001b[39m)\n\u001b[0;32m     94\u001b[0m \u001b[38;5;129m@Appender\u001b[39m(_merge_doc, indents\u001b[38;5;241m=\u001b[39m\u001b[38;5;241m0\u001b[39m)\n\u001b[0;32m     95\u001b[0m \u001b[38;5;28;01mdef\u001b[39;00m \u001b[38;5;21mmerge\u001b[39m(\n\u001b[1;32m   (...)\u001b[0m\n\u001b[0;32m    108\u001b[0m     validate: \u001b[38;5;28mstr\u001b[39m \u001b[38;5;241m|\u001b[39m \u001b[38;5;28;01mNone\u001b[39;00m \u001b[38;5;241m=\u001b[39m \u001b[38;5;28;01mNone\u001b[39;00m,\n\u001b[0;32m    109\u001b[0m ) \u001b[38;5;241m-\u001b[39m\u001b[38;5;241m>\u001b[39m DataFrame:\n\u001b[0;32m    110\u001b[0m     op \u001b[38;5;241m=\u001b[39m _MergeOperation(\n\u001b[0;32m    111\u001b[0m         left,\n\u001b[0;32m    112\u001b[0m         right,\n\u001b[1;32m   (...)\u001b[0m\n\u001b[0;32m    122\u001b[0m         validate\u001b[38;5;241m=\u001b[39mvalidate,\n\u001b[0;32m    123\u001b[0m     )\n\u001b[1;32m--> 124\u001b[0m     \u001b[38;5;28;01mreturn\u001b[39;00m op\u001b[38;5;241m.\u001b[39mget_result(copy\u001b[38;5;241m=\u001b[39mcopy)\n",
      "File \u001b[1;32m~\\anaconda3\\Lib\\site-packages\\pandas\\core\\reshape\\merge.py:773\u001b[0m, in \u001b[0;36m_MergeOperation.get_result\u001b[1;34m(self, copy)\u001b[0m\n\u001b[0;32m    770\u001b[0m \u001b[38;5;28;01mif\u001b[39;00m \u001b[38;5;28mself\u001b[39m\u001b[38;5;241m.\u001b[39mindicator:\n\u001b[0;32m    771\u001b[0m     \u001b[38;5;28mself\u001b[39m\u001b[38;5;241m.\u001b[39mleft, \u001b[38;5;28mself\u001b[39m\u001b[38;5;241m.\u001b[39mright \u001b[38;5;241m=\u001b[39m \u001b[38;5;28mself\u001b[39m\u001b[38;5;241m.\u001b[39m_indicator_pre_merge(\u001b[38;5;28mself\u001b[39m\u001b[38;5;241m.\u001b[39mleft, \u001b[38;5;28mself\u001b[39m\u001b[38;5;241m.\u001b[39mright)\n\u001b[1;32m--> 773\u001b[0m join_index, left_indexer, right_indexer \u001b[38;5;241m=\u001b[39m \u001b[38;5;28mself\u001b[39m\u001b[38;5;241m.\u001b[39m_get_join_info()\n\u001b[0;32m    775\u001b[0m result \u001b[38;5;241m=\u001b[39m \u001b[38;5;28mself\u001b[39m\u001b[38;5;241m.\u001b[39m_reindex_and_concat(\n\u001b[0;32m    776\u001b[0m     join_index, left_indexer, right_indexer, copy\u001b[38;5;241m=\u001b[39mcopy\n\u001b[0;32m    777\u001b[0m )\n\u001b[0;32m    778\u001b[0m result \u001b[38;5;241m=\u001b[39m result\u001b[38;5;241m.\u001b[39m__finalize__(\u001b[38;5;28mself\u001b[39m, method\u001b[38;5;241m=\u001b[39m\u001b[38;5;28mself\u001b[39m\u001b[38;5;241m.\u001b[39m_merge_type)\n",
      "File \u001b[1;32m~\\anaconda3\\Lib\\site-packages\\pandas\\core\\reshape\\merge.py:1026\u001b[0m, in \u001b[0;36m_MergeOperation._get_join_info\u001b[1;34m(self)\u001b[0m\n\u001b[0;32m   1022\u001b[0m     join_index, right_indexer, left_indexer \u001b[38;5;241m=\u001b[39m _left_join_on_index(\n\u001b[0;32m   1023\u001b[0m         right_ax, left_ax, \u001b[38;5;28mself\u001b[39m\u001b[38;5;241m.\u001b[39mright_join_keys, sort\u001b[38;5;241m=\u001b[39m\u001b[38;5;28mself\u001b[39m\u001b[38;5;241m.\u001b[39msort\n\u001b[0;32m   1024\u001b[0m     )\n\u001b[0;32m   1025\u001b[0m \u001b[38;5;28;01melse\u001b[39;00m:\n\u001b[1;32m-> 1026\u001b[0m     (left_indexer, right_indexer) \u001b[38;5;241m=\u001b[39m \u001b[38;5;28mself\u001b[39m\u001b[38;5;241m.\u001b[39m_get_join_indexers()\n\u001b[0;32m   1028\u001b[0m     \u001b[38;5;28;01mif\u001b[39;00m \u001b[38;5;28mself\u001b[39m\u001b[38;5;241m.\u001b[39mright_index:\n\u001b[0;32m   1029\u001b[0m         \u001b[38;5;28;01mif\u001b[39;00m \u001b[38;5;28mlen\u001b[39m(\u001b[38;5;28mself\u001b[39m\u001b[38;5;241m.\u001b[39mleft) \u001b[38;5;241m>\u001b[39m \u001b[38;5;241m0\u001b[39m:\n",
      "File \u001b[1;32m~\\anaconda3\\Lib\\site-packages\\pandas\\core\\reshape\\merge.py:1000\u001b[0m, in \u001b[0;36m_MergeOperation._get_join_indexers\u001b[1;34m(self)\u001b[0m\n\u001b[0;32m    998\u001b[0m \u001b[38;5;28;01mdef\u001b[39;00m \u001b[38;5;21m_get_join_indexers\u001b[39m(\u001b[38;5;28mself\u001b[39m) \u001b[38;5;241m-\u001b[39m\u001b[38;5;241m>\u001b[39m \u001b[38;5;28mtuple\u001b[39m[npt\u001b[38;5;241m.\u001b[39mNDArray[np\u001b[38;5;241m.\u001b[39mintp], npt\u001b[38;5;241m.\u001b[39mNDArray[np\u001b[38;5;241m.\u001b[39mintp]]:\n\u001b[0;32m    999\u001b[0m \u001b[38;5;250m    \u001b[39m\u001b[38;5;124;03m\"\"\"return the join indexers\"\"\"\u001b[39;00m\n\u001b[1;32m-> 1000\u001b[0m     \u001b[38;5;28;01mreturn\u001b[39;00m get_join_indexers(\n\u001b[0;32m   1001\u001b[0m         \u001b[38;5;28mself\u001b[39m\u001b[38;5;241m.\u001b[39mleft_join_keys, \u001b[38;5;28mself\u001b[39m\u001b[38;5;241m.\u001b[39mright_join_keys, sort\u001b[38;5;241m=\u001b[39m\u001b[38;5;28mself\u001b[39m\u001b[38;5;241m.\u001b[39msort, how\u001b[38;5;241m=\u001b[39m\u001b[38;5;28mself\u001b[39m\u001b[38;5;241m.\u001b[39mhow\n\u001b[0;32m   1002\u001b[0m     )\n",
      "File \u001b[1;32m~\\anaconda3\\Lib\\site-packages\\pandas\\core\\reshape\\merge.py:1589\u001b[0m, in \u001b[0;36mget_join_indexers\u001b[1;34m(left_keys, right_keys, sort, how, **kwargs)\u001b[0m\n\u001b[0;32m   1586\u001b[0m llab, rlab, shape \u001b[38;5;241m=\u001b[39m (\u001b[38;5;28mlist\u001b[39m(x) \u001b[38;5;28;01mfor\u001b[39;00m x \u001b[38;5;129;01min\u001b[39;00m zipped)\n\u001b[0;32m   1588\u001b[0m \u001b[38;5;66;03m# get flat i8 keys from label lists\u001b[39;00m\n\u001b[1;32m-> 1589\u001b[0m lkey, rkey \u001b[38;5;241m=\u001b[39m _get_join_keys(llab, rlab, shape, sort)\n\u001b[0;32m   1591\u001b[0m \u001b[38;5;66;03m# factorize keys to a dense i8 space\u001b[39;00m\n\u001b[0;32m   1592\u001b[0m \u001b[38;5;66;03m# `count` is the num. of unique keys\u001b[39;00m\n\u001b[0;32m   1593\u001b[0m \u001b[38;5;66;03m# set(lkey) | set(rkey) == range(count)\u001b[39;00m\n\u001b[0;32m   1595\u001b[0m lkey, rkey, count \u001b[38;5;241m=\u001b[39m _factorize_keys(lkey, rkey, sort\u001b[38;5;241m=\u001b[39msort, how\u001b[38;5;241m=\u001b[39mhow)\n",
      "File \u001b[1;32m~\\anaconda3\\Lib\\site-packages\\pandas\\core\\reshape\\merge.py:2385\u001b[0m, in \u001b[0;36m_get_join_keys\u001b[1;34m(llab, rlab, shape, sort)\u001b[0m\n\u001b[0;32m   2383\u001b[0m \u001b[38;5;66;03m# get keys for the first `nlev` levels\u001b[39;00m\n\u001b[0;32m   2384\u001b[0m stride \u001b[38;5;241m=\u001b[39m np\u001b[38;5;241m.\u001b[39mprod(shape[\u001b[38;5;241m1\u001b[39m:nlev], dtype\u001b[38;5;241m=\u001b[39m\u001b[38;5;124m\"\u001b[39m\u001b[38;5;124mi8\u001b[39m\u001b[38;5;124m\"\u001b[39m)\n\u001b[1;32m-> 2385\u001b[0m lkey \u001b[38;5;241m=\u001b[39m stride \u001b[38;5;241m*\u001b[39m llab[\u001b[38;5;241m0\u001b[39m]\u001b[38;5;241m.\u001b[39mastype(\u001b[38;5;124m\"\u001b[39m\u001b[38;5;124mi8\u001b[39m\u001b[38;5;124m\"\u001b[39m, subok\u001b[38;5;241m=\u001b[39m\u001b[38;5;28;01mFalse\u001b[39;00m, copy\u001b[38;5;241m=\u001b[39m\u001b[38;5;28;01mFalse\u001b[39;00m)\n\u001b[0;32m   2386\u001b[0m rkey \u001b[38;5;241m=\u001b[39m stride \u001b[38;5;241m*\u001b[39m rlab[\u001b[38;5;241m0\u001b[39m]\u001b[38;5;241m.\u001b[39mastype(\u001b[38;5;124m\"\u001b[39m\u001b[38;5;124mi8\u001b[39m\u001b[38;5;124m\"\u001b[39m, subok\u001b[38;5;241m=\u001b[39m\u001b[38;5;28;01mFalse\u001b[39;00m, copy\u001b[38;5;241m=\u001b[39m\u001b[38;5;28;01mFalse\u001b[39;00m)\n\u001b[0;32m   2388\u001b[0m \u001b[38;5;28;01mfor\u001b[39;00m i \u001b[38;5;129;01min\u001b[39;00m \u001b[38;5;28mrange\u001b[39m(\u001b[38;5;241m1\u001b[39m, nlev):\n",
      "\u001b[1;31mMemoryError\u001b[0m: Unable to allocate 1.43 GiB for an array with shape (192094934,) and data type int64"
     ]
    }
   ],
   "source": [
    "# Create a new df just for computers\n",
    "merged_df_printers = pd.merge(combined_df, device_types, on='smart_plug')\n",
    "merged_df_printers = merged_df_printers[merged_df_printers['Load_Type'] == 'Printer']\n",
    "merged_df_printers['day_of_week'] = merged_df_printers['time'].dt.day_name()\n",
    "\n",
    "# Add a column for day of the week\n",
    "merged_df_printers['day_of_week'] = merged_df_printers['time'].dt.day_name()\n",
    "\n",
    "# Extract minute of the day\n",
    "merged_df_printers['minute_of_day'] = merged_df_printers['time'].dt.hour * 60 + merged_df_printers['time'].dt.minute"
   ]
  },
  {
   "cell_type": "code",
   "execution_count": null,
   "id": "575c4078",
   "metadata": {},
   "outputs": [],
   "source": [
    "printer_building_totals_df = merged_df_printers.groupby('building_name').agg({'power_consumption (mW)': 'mean'}).reset_index()\n",
    "printer_building_totals_df['coordinates'] = printer_building_totals_df['building_name'].map(coordinates)"
   ]
  },
  {
   "cell_type": "code",
   "execution_count": null,
   "id": "e266aa06",
   "metadata": {},
   "outputs": [],
   "source": [
    "import folium\n",
    "from folium.plugins import HeatMap\n",
    "\n",
    "# Create a map centered around the campus (or a general center point)\n",
    "m = folium.Map(location=[32.880000, -117.235000], zoom_start=15)\n",
    "\n",
    "# Prepare data for heatmap (coordinates, weight)\n",
    "heat_data = [[row['coordinates'][0], row['coordinates'][1], row['power_consumption (mW)']] for index, row in printer_building_totals_df.iterrows()]\n",
    "\n",
    "# Add heatmap layer to the map\n",
    "HeatMap(heat_data).add_to(m)\n",
    "\n",
    "# Add markers with labels for each building\n",
    "for index, row in printer_building_totals_df.iterrows():\n",
    "    folium.Marker(\n",
    "        location=row['coordinates'],\n",
    "        popup=f\"{row['building_name']}<br>Power Consumption: {row['power_consumption (mW)']:.0f} mW\",\n",
    "        tooltip=row['building_name'],  # Tooltip to display on hover\n",
    "    ).add_to(m)\n",
    "\n",
    "# Display map\n",
    "m.save('printer_power_consumption_heatmap.html')"
   ]
  },
  {
   "cell_type": "code",
   "execution_count": null,
   "id": "5488350a",
   "metadata": {},
   "outputs": [],
   "source": []
  },
  {
   "cell_type": "code",
   "execution_count": 14,
   "id": "b932edbc",
   "metadata": {},
   "outputs": [
    {
     "ename": "MemoryError",
     "evalue": "Unable to allocate 1.43 GiB for an array with shape (192094934,) and data type int64",
     "output_type": "error",
     "traceback": [
      "\u001b[1;31m---------------------------------------------------------------------------\u001b[0m",
      "\u001b[1;31mMemoryError\u001b[0m                               Traceback (most recent call last)",
      "Cell \u001b[1;32mIn[14], line 2\u001b[0m\n\u001b[0;32m      1\u001b[0m \u001b[38;5;66;03m# Create a new df just for computers\u001b[39;00m\n\u001b[1;32m----> 2\u001b[0m merged_df_tvs \u001b[38;5;241m=\u001b[39m pd\u001b[38;5;241m.\u001b[39mmerge(combined_df, device_types, on\u001b[38;5;241m=\u001b[39m\u001b[38;5;124m'\u001b[39m\u001b[38;5;124msmart_plug\u001b[39m\u001b[38;5;124m'\u001b[39m)\n\u001b[0;32m      3\u001b[0m merged_df_tvs \u001b[38;5;241m=\u001b[39m merged_df_tvs[merged_df_tvs[\u001b[38;5;124m'\u001b[39m\u001b[38;5;124mLoad_Type\u001b[39m\u001b[38;5;124m'\u001b[39m] \u001b[38;5;241m==\u001b[39m \u001b[38;5;124m'\u001b[39m\u001b[38;5;124mTV\u001b[39m\u001b[38;5;124m'\u001b[39m]\n\u001b[0;32m      4\u001b[0m merged_df_tvs[\u001b[38;5;124m'\u001b[39m\u001b[38;5;124mday_of_week\u001b[39m\u001b[38;5;124m'\u001b[39m] \u001b[38;5;241m=\u001b[39m merged_df_tvs[\u001b[38;5;124m'\u001b[39m\u001b[38;5;124mtime\u001b[39m\u001b[38;5;124m'\u001b[39m]\u001b[38;5;241m.\u001b[39mdt\u001b[38;5;241m.\u001b[39mday_name()\n",
      "File \u001b[1;32m~\\anaconda3\\Lib\\site-packages\\pandas\\core\\reshape\\merge.py:124\u001b[0m, in \u001b[0;36mmerge\u001b[1;34m(left, right, how, on, left_on, right_on, left_index, right_index, sort, suffixes, copy, indicator, validate)\u001b[0m\n\u001b[0;32m     93\u001b[0m \u001b[38;5;129m@Substitution\u001b[39m(\u001b[38;5;124m\"\u001b[39m\u001b[38;5;130;01m\\n\u001b[39;00m\u001b[38;5;124mleft : DataFrame or named Series\u001b[39m\u001b[38;5;124m\"\u001b[39m)\n\u001b[0;32m     94\u001b[0m \u001b[38;5;129m@Appender\u001b[39m(_merge_doc, indents\u001b[38;5;241m=\u001b[39m\u001b[38;5;241m0\u001b[39m)\n\u001b[0;32m     95\u001b[0m \u001b[38;5;28;01mdef\u001b[39;00m \u001b[38;5;21mmerge\u001b[39m(\n\u001b[1;32m   (...)\u001b[0m\n\u001b[0;32m    108\u001b[0m     validate: \u001b[38;5;28mstr\u001b[39m \u001b[38;5;241m|\u001b[39m \u001b[38;5;28;01mNone\u001b[39;00m \u001b[38;5;241m=\u001b[39m \u001b[38;5;28;01mNone\u001b[39;00m,\n\u001b[0;32m    109\u001b[0m ) \u001b[38;5;241m-\u001b[39m\u001b[38;5;241m>\u001b[39m DataFrame:\n\u001b[0;32m    110\u001b[0m     op \u001b[38;5;241m=\u001b[39m _MergeOperation(\n\u001b[0;32m    111\u001b[0m         left,\n\u001b[0;32m    112\u001b[0m         right,\n\u001b[1;32m   (...)\u001b[0m\n\u001b[0;32m    122\u001b[0m         validate\u001b[38;5;241m=\u001b[39mvalidate,\n\u001b[0;32m    123\u001b[0m     )\n\u001b[1;32m--> 124\u001b[0m     \u001b[38;5;28;01mreturn\u001b[39;00m op\u001b[38;5;241m.\u001b[39mget_result(copy\u001b[38;5;241m=\u001b[39mcopy)\n",
      "File \u001b[1;32m~\\anaconda3\\Lib\\site-packages\\pandas\\core\\reshape\\merge.py:773\u001b[0m, in \u001b[0;36m_MergeOperation.get_result\u001b[1;34m(self, copy)\u001b[0m\n\u001b[0;32m    770\u001b[0m \u001b[38;5;28;01mif\u001b[39;00m \u001b[38;5;28mself\u001b[39m\u001b[38;5;241m.\u001b[39mindicator:\n\u001b[0;32m    771\u001b[0m     \u001b[38;5;28mself\u001b[39m\u001b[38;5;241m.\u001b[39mleft, \u001b[38;5;28mself\u001b[39m\u001b[38;5;241m.\u001b[39mright \u001b[38;5;241m=\u001b[39m \u001b[38;5;28mself\u001b[39m\u001b[38;5;241m.\u001b[39m_indicator_pre_merge(\u001b[38;5;28mself\u001b[39m\u001b[38;5;241m.\u001b[39mleft, \u001b[38;5;28mself\u001b[39m\u001b[38;5;241m.\u001b[39mright)\n\u001b[1;32m--> 773\u001b[0m join_index, left_indexer, right_indexer \u001b[38;5;241m=\u001b[39m \u001b[38;5;28mself\u001b[39m\u001b[38;5;241m.\u001b[39m_get_join_info()\n\u001b[0;32m    775\u001b[0m result \u001b[38;5;241m=\u001b[39m \u001b[38;5;28mself\u001b[39m\u001b[38;5;241m.\u001b[39m_reindex_and_concat(\n\u001b[0;32m    776\u001b[0m     join_index, left_indexer, right_indexer, copy\u001b[38;5;241m=\u001b[39mcopy\n\u001b[0;32m    777\u001b[0m )\n\u001b[0;32m    778\u001b[0m result \u001b[38;5;241m=\u001b[39m result\u001b[38;5;241m.\u001b[39m__finalize__(\u001b[38;5;28mself\u001b[39m, method\u001b[38;5;241m=\u001b[39m\u001b[38;5;28mself\u001b[39m\u001b[38;5;241m.\u001b[39m_merge_type)\n",
      "File \u001b[1;32m~\\anaconda3\\Lib\\site-packages\\pandas\\core\\reshape\\merge.py:1026\u001b[0m, in \u001b[0;36m_MergeOperation._get_join_info\u001b[1;34m(self)\u001b[0m\n\u001b[0;32m   1022\u001b[0m     join_index, right_indexer, left_indexer \u001b[38;5;241m=\u001b[39m _left_join_on_index(\n\u001b[0;32m   1023\u001b[0m         right_ax, left_ax, \u001b[38;5;28mself\u001b[39m\u001b[38;5;241m.\u001b[39mright_join_keys, sort\u001b[38;5;241m=\u001b[39m\u001b[38;5;28mself\u001b[39m\u001b[38;5;241m.\u001b[39msort\n\u001b[0;32m   1024\u001b[0m     )\n\u001b[0;32m   1025\u001b[0m \u001b[38;5;28;01melse\u001b[39;00m:\n\u001b[1;32m-> 1026\u001b[0m     (left_indexer, right_indexer) \u001b[38;5;241m=\u001b[39m \u001b[38;5;28mself\u001b[39m\u001b[38;5;241m.\u001b[39m_get_join_indexers()\n\u001b[0;32m   1028\u001b[0m     \u001b[38;5;28;01mif\u001b[39;00m \u001b[38;5;28mself\u001b[39m\u001b[38;5;241m.\u001b[39mright_index:\n\u001b[0;32m   1029\u001b[0m         \u001b[38;5;28;01mif\u001b[39;00m \u001b[38;5;28mlen\u001b[39m(\u001b[38;5;28mself\u001b[39m\u001b[38;5;241m.\u001b[39mleft) \u001b[38;5;241m>\u001b[39m \u001b[38;5;241m0\u001b[39m:\n",
      "File \u001b[1;32m~\\anaconda3\\Lib\\site-packages\\pandas\\core\\reshape\\merge.py:1000\u001b[0m, in \u001b[0;36m_MergeOperation._get_join_indexers\u001b[1;34m(self)\u001b[0m\n\u001b[0;32m    998\u001b[0m \u001b[38;5;28;01mdef\u001b[39;00m \u001b[38;5;21m_get_join_indexers\u001b[39m(\u001b[38;5;28mself\u001b[39m) \u001b[38;5;241m-\u001b[39m\u001b[38;5;241m>\u001b[39m \u001b[38;5;28mtuple\u001b[39m[npt\u001b[38;5;241m.\u001b[39mNDArray[np\u001b[38;5;241m.\u001b[39mintp], npt\u001b[38;5;241m.\u001b[39mNDArray[np\u001b[38;5;241m.\u001b[39mintp]]:\n\u001b[0;32m    999\u001b[0m \u001b[38;5;250m    \u001b[39m\u001b[38;5;124;03m\"\"\"return the join indexers\"\"\"\u001b[39;00m\n\u001b[1;32m-> 1000\u001b[0m     \u001b[38;5;28;01mreturn\u001b[39;00m get_join_indexers(\n\u001b[0;32m   1001\u001b[0m         \u001b[38;5;28mself\u001b[39m\u001b[38;5;241m.\u001b[39mleft_join_keys, \u001b[38;5;28mself\u001b[39m\u001b[38;5;241m.\u001b[39mright_join_keys, sort\u001b[38;5;241m=\u001b[39m\u001b[38;5;28mself\u001b[39m\u001b[38;5;241m.\u001b[39msort, how\u001b[38;5;241m=\u001b[39m\u001b[38;5;28mself\u001b[39m\u001b[38;5;241m.\u001b[39mhow\n\u001b[0;32m   1002\u001b[0m     )\n",
      "File \u001b[1;32m~\\anaconda3\\Lib\\site-packages\\pandas\\core\\reshape\\merge.py:1585\u001b[0m, in \u001b[0;36mget_join_indexers\u001b[1;34m(left_keys, right_keys, sort, how, **kwargs)\u001b[0m\n\u001b[0;32m   1580\u001b[0m \u001b[38;5;66;03m# get left & right join labels and num. of levels at each location\u001b[39;00m\n\u001b[0;32m   1581\u001b[0m mapped \u001b[38;5;241m=\u001b[39m (\n\u001b[0;32m   1582\u001b[0m     _factorize_keys(left_keys[n], right_keys[n], sort\u001b[38;5;241m=\u001b[39msort, how\u001b[38;5;241m=\u001b[39mhow)\n\u001b[0;32m   1583\u001b[0m     \u001b[38;5;28;01mfor\u001b[39;00m n \u001b[38;5;129;01min\u001b[39;00m \u001b[38;5;28mrange\u001b[39m(\u001b[38;5;28mlen\u001b[39m(left_keys))\n\u001b[0;32m   1584\u001b[0m )\n\u001b[1;32m-> 1585\u001b[0m zipped \u001b[38;5;241m=\u001b[39m \u001b[38;5;28mzip\u001b[39m(\u001b[38;5;241m*\u001b[39mmapped)\n\u001b[0;32m   1586\u001b[0m llab, rlab, shape \u001b[38;5;241m=\u001b[39m (\u001b[38;5;28mlist\u001b[39m(x) \u001b[38;5;28;01mfor\u001b[39;00m x \u001b[38;5;129;01min\u001b[39;00m zipped)\n\u001b[0;32m   1588\u001b[0m \u001b[38;5;66;03m# get flat i8 keys from label lists\u001b[39;00m\n",
      "File \u001b[1;32m~\\anaconda3\\Lib\\site-packages\\pandas\\core\\reshape\\merge.py:1582\u001b[0m, in \u001b[0;36m<genexpr>\u001b[1;34m(.0)\u001b[0m\n\u001b[0;32m   1578\u001b[0m         \u001b[38;5;28;01mreturn\u001b[39;00m _get_no_sort_one_missing_indexer(left_n, \u001b[38;5;28;01mFalse\u001b[39;00m)\n\u001b[0;32m   1580\u001b[0m \u001b[38;5;66;03m# get left & right join labels and num. of levels at each location\u001b[39;00m\n\u001b[0;32m   1581\u001b[0m mapped \u001b[38;5;241m=\u001b[39m (\n\u001b[1;32m-> 1582\u001b[0m     _factorize_keys(left_keys[n], right_keys[n], sort\u001b[38;5;241m=\u001b[39msort, how\u001b[38;5;241m=\u001b[39mhow)\n\u001b[0;32m   1583\u001b[0m     \u001b[38;5;28;01mfor\u001b[39;00m n \u001b[38;5;129;01min\u001b[39;00m \u001b[38;5;28mrange\u001b[39m(\u001b[38;5;28mlen\u001b[39m(left_keys))\n\u001b[0;32m   1584\u001b[0m )\n\u001b[0;32m   1585\u001b[0m zipped \u001b[38;5;241m=\u001b[39m \u001b[38;5;28mzip\u001b[39m(\u001b[38;5;241m*\u001b[39mmapped)\n\u001b[0;32m   1586\u001b[0m llab, rlab, shape \u001b[38;5;241m=\u001b[39m (\u001b[38;5;28mlist\u001b[39m(x) \u001b[38;5;28;01mfor\u001b[39;00m x \u001b[38;5;129;01min\u001b[39;00m zipped)\n",
      "File \u001b[1;32m~\\anaconda3\\Lib\\site-packages\\pandas\\core\\reshape\\merge.py:2329\u001b[0m, in \u001b[0;36m_factorize_keys\u001b[1;34m(lk, rk, sort, how)\u001b[0m\n\u001b[0;32m   2324\u001b[0m rizer \u001b[38;5;241m=\u001b[39m klass(\u001b[38;5;28mmax\u001b[39m(\u001b[38;5;28mlen\u001b[39m(lk), \u001b[38;5;28mlen\u001b[39m(rk)))\n\u001b[0;32m   2326\u001b[0m \u001b[38;5;66;03m# Argument 1 to \"factorize\" of \"ObjectFactorizer\" has incompatible type\u001b[39;00m\n\u001b[0;32m   2327\u001b[0m \u001b[38;5;66;03m# \"Union[ndarray[Any, dtype[signedinteger[_64Bit]]],\u001b[39;00m\n\u001b[0;32m   2328\u001b[0m \u001b[38;5;66;03m# ndarray[Any, dtype[object_]]]\"; expected \"ndarray[Any, dtype[object_]]\"\u001b[39;00m\n\u001b[1;32m-> 2329\u001b[0m llab \u001b[38;5;241m=\u001b[39m rizer\u001b[38;5;241m.\u001b[39mfactorize(lk)  \u001b[38;5;66;03m# type: ignore[arg-type]\u001b[39;00m\n\u001b[0;32m   2330\u001b[0m \u001b[38;5;66;03m# Argument 1 to \"factorize\" of \"ObjectFactorizer\" has incompatible type\u001b[39;00m\n\u001b[0;32m   2331\u001b[0m \u001b[38;5;66;03m# \"Union[ndarray[Any, dtype[signedinteger[_64Bit]]],\u001b[39;00m\n\u001b[0;32m   2332\u001b[0m \u001b[38;5;66;03m# ndarray[Any, dtype[object_]]]\"; expected \"ndarray[Any, dtype[object_]]\"\u001b[39;00m\n\u001b[0;32m   2333\u001b[0m rlab \u001b[38;5;241m=\u001b[39m rizer\u001b[38;5;241m.\u001b[39mfactorize(rk)  \u001b[38;5;66;03m# type: ignore[arg-type]\u001b[39;00m\n",
      "File \u001b[1;32m~\\anaconda3\\Lib\\site-packages\\pandas\\_libs\\hashtable.pyx:125\u001b[0m, in \u001b[0;36mpandas._libs.hashtable.ObjectFactorizer.factorize\u001b[1;34m()\u001b[0m\n",
      "File \u001b[1;32mpandas\\_libs\\hashtable_class_helper.pxi:5951\u001b[0m, in \u001b[0;36mpandas._libs.hashtable.PyObjectHashTable.get_labels\u001b[1;34m()\u001b[0m\n",
      "File \u001b[1;32mpandas\\_libs\\hashtable_class_helper.pxi:5852\u001b[0m, in \u001b[0;36mpandas._libs.hashtable.PyObjectHashTable._unique\u001b[1;34m()\u001b[0m\n",
      "\u001b[1;31mMemoryError\u001b[0m: Unable to allocate 1.43 GiB for an array with shape (192094934,) and data type int64"
     ]
    }
   ],
   "source": [
    "# Create a new df just for computers\n",
    "merged_df_tvs = pd.merge(combined_df, device_types, on='smart_plug')\n",
    "merged_df_tvs = merged_df_tvs[merged_df_tvs['Load_Type'] == 'TV']\n",
    "merged_df_tvs['day_of_week'] = merged_df_tvs['time'].dt.day_name()\n",
    "\n",
    "# Add a column for day of the week\n",
    "merged_df_tvs['day_of_week'] = merged_df_tvs['time'].dt.day_name()\n",
    "\n",
    "# Extract minute of the day\n",
    "merged_df_tvs['minute_of_day'] = merged_df_tvs['time'].dt.hour * 60 + merged_df_tvs['time'].dt.minute"
   ]
  },
  {
   "cell_type": "code",
   "execution_count": 15,
   "id": "fb59b7ca",
   "metadata": {},
   "outputs": [
    {
     "ename": "NameError",
     "evalue": "name 'merged_df_tvs' is not defined",
     "output_type": "error",
     "traceback": [
      "\u001b[1;31m---------------------------------------------------------------------------\u001b[0m",
      "\u001b[1;31mNameError\u001b[0m                                 Traceback (most recent call last)",
      "Cell \u001b[1;32mIn[15], line 1\u001b[0m\n\u001b[1;32m----> 1\u001b[0m tv_building_totals_df \u001b[38;5;241m=\u001b[39m merged_df_tvs\u001b[38;5;241m.\u001b[39mgroupby(\u001b[38;5;124m'\u001b[39m\u001b[38;5;124mbuilding_name\u001b[39m\u001b[38;5;124m'\u001b[39m)\u001b[38;5;241m.\u001b[39magg({\u001b[38;5;124m'\u001b[39m\u001b[38;5;124mpower_consumption (mW)\u001b[39m\u001b[38;5;124m'\u001b[39m: \u001b[38;5;124m'\u001b[39m\u001b[38;5;124mmean\u001b[39m\u001b[38;5;124m'\u001b[39m})\u001b[38;5;241m.\u001b[39mreset_index()\n\u001b[0;32m      2\u001b[0m tv_building_totals_df[\u001b[38;5;124m'\u001b[39m\u001b[38;5;124mcoordinates\u001b[39m\u001b[38;5;124m'\u001b[39m] \u001b[38;5;241m=\u001b[39m tv_building_totals_df[\u001b[38;5;124m'\u001b[39m\u001b[38;5;124mbuilding_name\u001b[39m\u001b[38;5;124m'\u001b[39m]\u001b[38;5;241m.\u001b[39mmap(coordinates)\n",
      "\u001b[1;31mNameError\u001b[0m: name 'merged_df_tvs' is not defined"
     ]
    }
   ],
   "source": [
    "tv_building_totals_df = merged_df_tvs.groupby('building_name').agg({'power_consumption (mW)': 'mean'}).reset_index()\n",
    "tv_building_totals_df['coordinates'] = tv_building_totals_df['building_name'].map(coordinates)"
   ]
  },
  {
   "cell_type": "code",
   "execution_count": null,
   "id": "08414f24",
   "metadata": {},
   "outputs": [],
   "source": [
    "import folium\n",
    "from folium.plugins import HeatMap\n",
    "\n",
    "# Create a map centered around the campus (or a general center point)\n",
    "m = folium.Map(location=[32.880000, -117.235000], zoom_start=15)\n",
    "\n",
    "# Prepare data for heatmap (coordinates, weight)\n",
    "heat_data = [[row['coordinates'][0], row['coordinates'][1], row['power_consumption (mW)']] for index, row in tv_building_totals_df.iterrows()]\n",
    "\n",
    "# Add heatmap layer to the map\n",
    "HeatMap(heat_data).add_to(m)\n",
    "\n",
    "# Add markers with labels for each building\n",
    "for index, row in tv_building_totals_df.iterrows():\n",
    "    folium.Marker(\n",
    "        location=row['coordinates'],\n",
    "        popup=f\"{row['building_name']}<br>Power Consumption: {row['power_consumption (mW)']:.0f} mW\",\n",
    "        tooltip=row['building_name'],  # Tooltip to display on hover\n",
    "    ).add_to(m)\n",
    "\n",
    "# Display map\n",
    "m.save('tv_power_consumption_heatmap.html')"
   ]
  },
  {
   "cell_type": "code",
   "execution_count": null,
   "id": "4b1096e4",
   "metadata": {},
   "outputs": [],
   "source": []
  },
  {
   "cell_type": "code",
   "execution_count": null,
   "id": "47b5cc91",
   "metadata": {},
   "outputs": [],
   "source": []
  },
  {
   "cell_type": "code",
   "execution_count": null,
   "id": "4a361288",
   "metadata": {},
   "outputs": [],
   "source": []
  },
  {
   "cell_type": "code",
   "execution_count": 13,
   "id": "b4520a4d",
   "metadata": {},
   "outputs": [],
   "source": [
    "# Creating new dfs to look at specific buildings' normalized power consumptions\n",
    "geisel_df = merged_df[merged_df['building_name'] == 'Geisel Library']\n",
    "mcgill_df = merged_df[merged_df['building_name'] == 'McGill Hall']\n",
    "IRPS_df = merged_df[merged_df['building_name'] == 'IRPS Robinson Hall']\n",
    "center_df = merged_df[merged_df['building_name'] == 'Center Hall']"
   ]
  },
  {
   "cell_type": "code",
   "execution_count": 14,
   "id": "6585cd1a",
   "metadata": {},
   "outputs": [],
   "source": [
    "# Create a column for the day of the week\n",
    "geisel_df = geisel_df.copy()\n",
    "geisel_df['day_of_week'] = geisel_df['time'].dt.day_name()\n",
    "\n",
    "# Aggregate power consumption by day of the week\n",
    "geisel_weekly = geisel_df.groupby(['day_of_week']).agg({'power_consumption (mW)': 'mean'}).reset_index()\n",
    "\n",
    "# Convert the power consumption values from mW to KW/h and rename the column appropriately\n",
    "geisel_weekly['power_consumption (mW)'] = geisel_weekly['power_consumption (mW)'] * 60 / 1_000_000\n",
    "geisel_weekly.rename(columns = {'power_consumption (mW)': 'power_consumption (KW/h)'}, inplace=True)\n",
    "\n",
    "# Create a column for the normalized consumption, or the consumption compared to the average across the entire campus\n",
    "geisel_avg_consumption = weekly_avg.loc[weekly_avg['building_name'] == 'Geisel Library', 'weekly_avg_consumption'].values[0] * 60 / 1_000_000\n",
    "geisel_weekly['normalized_consumption'] = geisel_weekly['power_consumption (KW/h)'] / geisel_avg_consumption\n",
    "\n",
    "# Set the day of the week to the index\n",
    "geisel_weekly.set_index('day_of_week', inplace=True)"
   ]
  },
  {
   "cell_type": "code",
   "execution_count": 15,
   "id": "56193a85",
   "metadata": {
    "scrolled": true
   },
   "outputs": [
    {
     "data": {
      "text/html": [
       "<div>\n",
       "<style scoped>\n",
       "    .dataframe tbody tr th:only-of-type {\n",
       "        vertical-align: middle;\n",
       "    }\n",
       "\n",
       "    .dataframe tbody tr th {\n",
       "        vertical-align: top;\n",
       "    }\n",
       "\n",
       "    .dataframe thead th {\n",
       "        text-align: right;\n",
       "    }\n",
       "</style>\n",
       "<table border=\"1\" class=\"dataframe\">\n",
       "  <thead>\n",
       "    <tr style=\"text-align: right;\">\n",
       "      <th></th>\n",
       "      <th>power_consumption (KW/h)</th>\n",
       "      <th>normalized_consumption</th>\n",
       "    </tr>\n",
       "    <tr>\n",
       "      <th>day_of_week</th>\n",
       "      <th></th>\n",
       "      <th></th>\n",
       "    </tr>\n",
       "  </thead>\n",
       "  <tbody>\n",
       "    <tr>\n",
       "      <th>Friday</th>\n",
       "      <td>4.898470</td>\n",
       "      <td>1.021154</td>\n",
       "    </tr>\n",
       "    <tr>\n",
       "      <th>Monday</th>\n",
       "      <td>4.837735</td>\n",
       "      <td>1.008493</td>\n",
       "    </tr>\n",
       "    <tr>\n",
       "      <th>Saturday</th>\n",
       "      <td>4.512097</td>\n",
       "      <td>0.940610</td>\n",
       "    </tr>\n",
       "    <tr>\n",
       "      <th>Sunday</th>\n",
       "      <td>4.462031</td>\n",
       "      <td>0.930173</td>\n",
       "    </tr>\n",
       "    <tr>\n",
       "      <th>Thursday</th>\n",
       "      <td>5.016632</td>\n",
       "      <td>1.045787</td>\n",
       "    </tr>\n",
       "    <tr>\n",
       "      <th>Tuesday</th>\n",
       "      <td>4.897855</td>\n",
       "      <td>1.021026</td>\n",
       "    </tr>\n",
       "    <tr>\n",
       "      <th>Wednesday</th>\n",
       "      <td>4.981475</td>\n",
       "      <td>1.038458</td>\n",
       "    </tr>\n",
       "  </tbody>\n",
       "</table>\n",
       "</div>"
      ],
      "text/plain": [
       "             power_consumption (KW/h)  normalized_consumption\n",
       "day_of_week                                                  \n",
       "Friday                       4.898470                1.021154\n",
       "Monday                       4.837735                1.008493\n",
       "Saturday                     4.512097                0.940610\n",
       "Sunday                       4.462031                0.930173\n",
       "Thursday                     5.016632                1.045787\n",
       "Tuesday                      4.897855                1.021026\n",
       "Wednesday                    4.981475                1.038458"
      ]
     },
     "execution_count": 15,
     "metadata": {},
     "output_type": "execute_result"
    }
   ],
   "source": [
    "geisel_weekly"
   ]
  },
  {
   "cell_type": "code",
   "execution_count": 16,
   "id": "ea330f5f",
   "metadata": {},
   "outputs": [
    {
     "data": {
      "image/png": "[encoded data removed]",
      "text/plain": [
       "<Figure size 1000x600 with 1 Axes>"
      ]
     },
     "metadata": {},
     "output_type": "display_data"
    }
   ],
   "source": [
    "import matplotlib.pyplot as plt\n",
    "import seaborn as sns\n",
    "import pandas as pd\n",
    "\n",
    "# Define the order of days to ensure the bars appear in the correct order\n",
    "day_order = ['Monday', 'Tuesday', 'Wednesday', 'Thursday', 'Friday', 'Saturday', 'Sunday']\n",
    "\n",
    "# Plot the chart\n",
    "plt.figure(figsize=(10, 6))\n",
    "bars = plt.bar(day_order, geisel_weekly.loc[day_order, 'normalized_consumption'], color='skyblue')\n",
    "plt.xlabel('Day of the Week')\n",
    "plt.ylabel('Normalized Power Consumption')\n",
    "plt.title(f'Geisel Library Normalized Power Consumption by Day of the Week')\n",
    "\n",
    "# Adding the actual number values above each bar on the chart for better visual presentation\n",
    "for bar in bars:\n",
    "    yval = bar.get_height()\n",
    "    plt.text(bar.get_x() + bar.get_width() / 2, yval, f'{yval:.1f}', ha='center', va='bottom')\n",
    "\n",
    "plt.tight_layout()\n",
    "plt.show()"
   ]
  },
  {
   "cell_type": "code",
   "execution_count": 17,
   "id": "a0196e48",
   "metadata": {},
   "outputs": [],
   "source": [
    "# Create a column for the day of the week\n",
    "mcgill_df = mcgill_df.copy()\n",
    "mcgill_df['day_of_week'] = mcgill_df['time'].dt.day_name()\n",
    "\n",
    "# Aggregate power consumption by day of the week\n",
    "mcgill_weekly = mcgill_df.groupby(['day_of_week']).agg({'power_consumption (mW)': 'mean'}).reset_index()\n",
    "\n",
    "# Convert the power consumption values from mW to KW/h and rename the column appropriately\n",
    "mcgill_weekly['power_consumption (mW)'] = mcgill_weekly['power_consumption (mW)'] * 60 / 1_000_000\n",
    "mcgill_weekly.rename(columns = {'power_consumption (mW)': 'power_consumption (KW/h)'}, inplace=True)\n",
    "\n",
    "# Create a column for the normalized consumption, or the consumption compared to the average across the entire campus\n",
    "mcgill_avg_consumption = weekly_avg.loc[weekly_avg['building_name'] == 'McGill Hall', 'weekly_avg_consumption'].values[0] * 60 / 1_000_000\n",
    "mcgill_weekly['normalized_consumption'] = mcgill_weekly['power_consumption (KW/h)'] / mcgill_avg_consumption\n",
    "\n",
    "# Set the day of the week to the index\n",
    "mcgill_weekly.set_index('day_of_week', inplace=True)"
   ]
  },
  {
   "cell_type": "code",
   "execution_count": 18,
   "id": "85129893",
   "metadata": {},
   "outputs": [
    {
     "data": {
      "image/png": "[encoded data removed]",
      "text/plain": [
       "<Figure size 1000x600 with 1 Axes>"
      ]
     },
     "metadata": {},
     "output_type": "display_data"
    }
   ],
   "source": [
    "import matplotlib.pyplot as plt\n",
    "import seaborn as sns\n",
    "import pandas as pd\n",
    "\n",
    "# Define the order of days to ensure the bars appear in the correct order\n",
    "day_order = ['Monday', 'Tuesday', 'Wednesday', 'Thursday', 'Friday', 'Saturday', 'Sunday']\n",
    "\n",
    "# Plot the chart\n",
    "plt.figure(figsize=(10, 6))\n",
    "bars = plt.bar(day_order, mcgill_weekly.loc[day_order, 'normalized_consumption'], color='skyblue')\n",
    "plt.xlabel('Day of the Week')\n",
    "plt.ylabel('Normalized Power Consumption')\n",
    "plt.title(f'McGill Hall Normalized Power Consumption by Day of the Week')\n",
    "\n",
    "for bar in bars:\n",
    "    yval = bar.get_height()\n",
    "    plt.text(bar.get_x() + bar.get_width() / 2, yval, f'{yval:.1f}', ha='center', va='bottom')\n",
    "\n",
    "plt.tight_layout()\n",
    "plt.show()"
   ]
  },
  {
   "cell_type": "code",
   "execution_count": 31,
   "id": "6e6edd5c",
   "metadata": {},
   "outputs": [
    {
     "data": {
      "text/plain": [
       "0.9894964227401147"
      ]
     },
     "execution_count": 31,
     "metadata": {},
     "output_type": "execute_result"
    }
   ],
   "source": [
    "weekdays = ['Monday', 'Tuesday', 'Wednesday', 'Thursday', 'Friday']\n",
    "weekends = ['Saturday', 'Sunday']\n",
    "center_weekly[center_weekly.index.isin(weekends)].get('normalized_consumption').mean()"
   ]
  },
  {
   "cell_type": "code",
   "execution_count": 32,
   "id": "cb606f93",
   "metadata": {
    "scrolled": true
   },
   "outputs": [
    {
     "data": {
      "text/plain": [
       "1.0046123755629468"
      ]
     },
     "execution_count": 32,
     "metadata": {},
     "output_type": "execute_result"
    }
   ],
   "source": [
    "center_weekly[center_weekly.index.isin(weekdays)].get('normalized_consumption').mean()"
   ]
  },
  {
   "cell_type": "code",
   "execution_count": 34,
   "id": "2b366226",
   "metadata": {},
   "outputs": [
    {
     "data": {
      "text/plain": [
       "1.5422885572139153"
      ]
     },
     "execution_count": 34,
     "metadata": {},
     "output_type": "execute_result"
    }
   ],
   "source": [
    "(1.005-.9895) / 1.005 * 100"
   ]
  },
  {
   "cell_type": "code",
   "execution_count": 19,
   "id": "4be110d7",
   "metadata": {},
   "outputs": [],
   "source": [
    "# Create a column for the day of the week\n",
    "IRPS_df = IRPS_df.copy()\n",
    "IRPS_df['day_of_week'] = IRPS_df['time'].dt.day_name()\n",
    "\n",
    "# Aggregate power consumption by day of the week\n",
    "IRPS_weekly = IRPS_df.groupby(['day_of_week']).agg({'power_consumption (mW)': 'mean'}).reset_index()\n",
    "\n",
    "# Convert the power consumption values from mW to KW/h and rename the column appropriately\n",
    "IRPS_weekly['power_consumption (mW)'] = IRPS_weekly['power_consumption (mW)'] * 60 / 1_000_000\n",
    "IRPS_weekly.rename(columns = {'power_consumption (mW)': 'power_consumption (KW/h)'}, inplace=True)\n",
    "\n",
    "# Create a column for the normalized consumption, or the consumption compared to the average across the entire campus\n",
    "IRPS_avg_consumption = weekly_avg.loc[weekly_avg['building_name'] == 'IRPS Robinson Hall', 'weekly_avg_consumption'].values[0] * 60 / 1_000_000\n",
    "IRPS_weekly['normalized_consumption'] = IRPS_weekly['power_consumption (KW/h)'] / IRPS_avg_consumption\n",
    "\n",
    "# Set the day of the week to the index\n",
    "IRPS_weekly.set_index('day_of_week', inplace=True)"
   ]
  },
  {
   "cell_type": "code",
   "execution_count": 20,
   "id": "db88e397",
   "metadata": {},
   "outputs": [
    {
     "data": {
      "image/png": "[encoded data removed]",
      "text/plain": [
       "<Figure size 1000x600 with 1 Axes>"
      ]
     },
     "metadata": {},
     "output_type": "display_data"
    }
   ],
   "source": [
    "import matplotlib.pyplot as plt\n",
    "import seaborn as sns\n",
    "import pandas as pd\n",
    "\n",
    "# Define the order of days to ensure the bars appear in the correct order\n",
    "day_order = ['Monday', 'Tuesday', 'Wednesday', 'Thursday', 'Friday', 'Saturday', 'Sunday']\n",
    "\n",
    "# Plot the chart\n",
    "plt.figure(figsize=(10, 6))\n",
    "bars = plt.bar(day_order, IRPS_weekly.loc[day_order, 'normalized_consumption'], color='skyblue')\n",
    "plt.xlabel('Day of the Week')\n",
    "plt.ylabel('Normalized Power Consumption')\n",
    "plt.title(f'IRPS Robinson Hall Normalized Power Consumption by Day of the Week')\n",
    "\n",
    "for bar in bars:\n",
    "    yval = bar.get_height()\n",
    "    plt.text(bar.get_x() + bar.get_width() / 2, yval, f'{yval:.1f}', ha='center', va='bottom')\n",
    "\n",
    "plt.tight_layout()\n",
    "plt.show()"
   ]
  },
  {
   "cell_type": "code",
   "execution_count": null,
   "id": "6829001b",
   "metadata": {},
   "outputs": [],
   "source": []
  },
  {
   "cell_type": "code",
   "execution_count": 21,
   "id": "b9dadd3b",
   "metadata": {},
   "outputs": [],
   "source": [
    "# Create a column for the day of the week\n",
    "center_df = center_df.copy()\n",
    "center_df['day_of_week'] = center_df['time'].dt.day_name()\n",
    "\n",
    "# Aggregate power consumption by day of the week\n",
    "center_weekly = center_df.groupby(['day_of_week']).agg({'power_consumption (mW)': 'mean'}).reset_index()\n",
    "\n",
    "# Convert the power consumption values from mW to KW/h and rename the column appropriately\n",
    "center_weekly['power_consumption (mW)'] = center_weekly['power_consumption (mW)'] * 60 / 1_000_000\n",
    "center_weekly.rename(columns = {'power_consumption (mW)': 'power_consumption (KW/h)'}, inplace=True)\n",
    "\n",
    "# Create a column for the normalized consumption, or the consumption compared to the average across the entire campus\n",
    "center_avg_consumption = weekly_avg.loc[weekly_avg['building_name'] == 'Center Hall', 'weekly_avg_consumption'].values[0] * 60 / 1_000_000\n",
    "center_weekly['normalized_consumption'] = center_weekly['power_consumption (KW/h)'] / center_avg_consumption\n",
    "\n",
    "# Set the day of the week to the index\n",
    "center_weekly.set_index('day_of_week', inplace=True)"
   ]
  },
  {
   "cell_type": "code",
   "execution_count": 22,
   "id": "6604d488",
   "metadata": {},
   "outputs": [
    {
     "data": {
      "image/png": "[encoded data removed]",
      "text/plain": [
       "<Figure size 1000x600 with 1 Axes>"
      ]
     },
     "metadata": {},
     "output_type": "display_data"
    }
   ],
   "source": [
    "import matplotlib.pyplot as plt\n",
    "import seaborn as sns\n",
    "import pandas as pd\n",
    "\n",
    "# Define the order of days to ensure the bars appear in the correct order\n",
    "day_order = ['Monday', 'Tuesday', 'Wednesday', 'Thursday', 'Friday', 'Saturday', 'Sunday']\n",
    "\n",
    "# Plot the chart\n",
    "plt.figure(figsize=(10, 6))\n",
    "bars = plt.bar(day_order, center_weekly.loc[day_order, 'normalized_consumption'], color='skyblue')\n",
    "plt.xlabel('Day of the Week')\n",
    "plt.ylabel('Normalized Power Consumption')\n",
    "plt.title(f'Center Hall Normalized Power Consumption by Day of the Week')\n",
    "\n",
    "for bar in bars:\n",
    "    yval = bar.get_height()\n",
    "    plt.text(bar.get_x() + bar.get_width() / 2, yval, f'{yval:.1f}', ha='center', va='bottom')\n",
    "\n",
    "plt.tight_layout()\n",
    "plt.show()"
   ]
  },
  {
   "cell_type": "code",
   "execution_count": null,
   "id": "c6695c1a",
   "metadata": {},
   "outputs": [],
   "source": []
  },
  {
   "cell_type": "code",
   "execution_count": null,
   "id": "9df21bf7",
   "metadata": {},
   "outputs": [],
   "source": []
  },
  {
   "cell_type": "code",
   "execution_count": null,
   "id": "3b8ee960",
   "metadata": {},
   "outputs": [],
   "source": []
  },
  {
   "cell_type": "code",
   "execution_count": null,
   "id": "26bb789c",
   "metadata": {},
   "outputs": [],
   "source": [
    "from PIL import Image\n",
    "\n",
    "number_of_frames = 7\n",
    "\n",
    "# Assuming you have saved each frame as an image\n",
    "frames = [Image.open(fr'C:\\Users\\vaugh\\Desktop\\smart-plug-research\\frame_{i}.png') for i in range(number_of_frames)]\n",
    "\n",
    "# Save as GIF\n",
    "frames[0].save(r'C:\\Users\\vaugh\\Desktop\\smart-plug-research\\heatmap_animation.gif', save_all=True, append_images=frames[1:], optimize=False, duration=1000, loop=0)"
   ]
  },
  {
   "cell_type": "code",
   "execution_count": null,
   "id": "16e252a9",
   "metadata": {},
   "outputs": [],
   "source": []
  }
 ],
 "metadata": {
  "kernelspec": {
   "display_name": "Python 3 (ipykernel)",
   "language": "python",
   "name": "python3"
  },
  "language_info": {
   "codemirror_mode": {
    "name": "ipython",
    "version": 3
   },
   "file_extension": ".py",
   "mimetype": "text/x-python",
   "name": "python",
   "nbconvert_exporter": "python",
   "pygments_lexer": "ipython3",
   "version": "3.11.4"
  }
 },
 "nbformat": 4,
 "nbformat_minor": 5
}
