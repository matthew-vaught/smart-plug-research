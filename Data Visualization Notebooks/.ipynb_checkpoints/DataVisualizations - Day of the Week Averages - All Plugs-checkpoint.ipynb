{
 "cells": [
  {
   "cell_type": "code",
   "execution_count": 2,
   "id": "52709a5b",
   "metadata": {},
   "outputs": [],
   "source": [
    "import pandas as pd\n",
    "import os\n",
    "import glob\n",
    "\n",
    "# Specify the path to your main folder containing subfolders with CSV files\n",
    "main_path = r'C:\\ResearchFiles\\AllFiles_Cleaned'\n",
    "\n",
    "# Recursively search for all CSV files in the subfolders\n",
    "all_files = [f for f in glob.glob(os.path.join(main_path, \"**/*.csv\"), recursive=True)]\n",
    "\n",
    "# Combine all files into a single DataFrame\n",
    "df_list = []\n",
    "for filename in all_files:\n",
    "    df = pd.read_csv(filename)\n",
    "    df['smart_plug'] = os.path.basename(filename).split('_')[1]  # Add a column for the smart plug identifier\n",
    "    # Optionally, add a column for the building by extracting from the path\n",
    "    df['building'] = os.path.basename(os.path.dirname(filename))\n",
    "    df_list.append(df)\n",
    "\n",
    "combined_df = pd.concat(df_list, ignore_index=True)"
   ]
  },
  {
   "cell_type": "code",
   "execution_count": 3,
   "id": "37a4b5e6",
   "metadata": {},
   "outputs": [],
   "source": [
    "# Remove unneccessary columns\n",
    "combined_df = combined_df.drop(columns = ['analogInput_2', 'analogInput_4', 'analogInput_5', 'binaryInput_3', 'binaryValue_1', 'building'])\n",
    "\n",
    "# Convert timestamp column to datetime\n",
    "combined_df['time'] = pd.to_datetime(combined_df['time'])\n",
    "\n",
    "# Rename the power consumption column more appropriately\n",
    "combined_df = combined_df.rename(columns = {'analogInput_3': 'power_consumption (mW)'})\n",
    "\n",
    "# Set the timestamp as index for easier use when graphing\n",
    "combined_df.set_index('time', inplace=True)"
   ]
  },
  {
   "cell_type": "code",
   "execution_count": 4,
   "id": "b8902ac7",
   "metadata": {},
   "outputs": [
    {
     "data": {
      "text/html": [
       "<div>\n",
       "<style scoped>\n",
       "    .dataframe tbody tr th:only-of-type {\n",
       "        vertical-align: middle;\n",
       "    }\n",
       "\n",
       "    .dataframe tbody tr th {\n",
       "        vertical-align: top;\n",
       "    }\n",
       "\n",
       "    .dataframe thead th {\n",
       "        text-align: right;\n",
       "    }\n",
       "</style>\n",
       "<table border=\"1\" class=\"dataframe\">\n",
       "  <thead>\n",
       "    <tr style=\"text-align: right;\">\n",
       "      <th></th>\n",
       "      <th>power_consumption (mW)</th>\n",
       "      <th>smart_plug</th>\n",
       "    </tr>\n",
       "    <tr>\n",
       "      <th>time</th>\n",
       "      <th></th>\n",
       "      <th></th>\n",
       "    </tr>\n",
       "  </thead>\n",
       "  <tbody>\n",
       "    <tr>\n",
       "      <th>2023-09-14 18:16:00</th>\n",
       "      <td>30392.714286</td>\n",
       "      <td>180940</td>\n",
       "    </tr>\n",
       "    <tr>\n",
       "      <th>2023-09-14 18:17:00</th>\n",
       "      <td>31416.000000</td>\n",
       "      <td>180940</td>\n",
       "    </tr>\n",
       "    <tr>\n",
       "      <th>2023-09-14 18:18:00</th>\n",
       "      <td>30044.000000</td>\n",
       "      <td>180940</td>\n",
       "    </tr>\n",
       "    <tr>\n",
       "      <th>2023-09-14 18:19:00</th>\n",
       "      <td>30740.000000</td>\n",
       "      <td>180940</td>\n",
       "    </tr>\n",
       "    <tr>\n",
       "      <th>2023-09-14 18:20:00</th>\n",
       "      <td>29952.000000</td>\n",
       "      <td>180940</td>\n",
       "    </tr>\n",
       "    <tr>\n",
       "      <th>...</th>\n",
       "      <td>...</td>\n",
       "      <td>...</td>\n",
       "    </tr>\n",
       "    <tr>\n",
       "      <th>2024-06-10 23:55:00</th>\n",
       "      <td>20587.000000</td>\n",
       "      <td>657128</td>\n",
       "    </tr>\n",
       "    <tr>\n",
       "      <th>2024-06-10 23:56:00</th>\n",
       "      <td>21240.000000</td>\n",
       "      <td>657128</td>\n",
       "    </tr>\n",
       "    <tr>\n",
       "      <th>2024-06-10 23:57:00</th>\n",
       "      <td>20760.000000</td>\n",
       "      <td>657128</td>\n",
       "    </tr>\n",
       "    <tr>\n",
       "      <th>2024-06-10 23:58:00</th>\n",
       "      <td>20532.000000</td>\n",
       "      <td>657128</td>\n",
       "    </tr>\n",
       "    <tr>\n",
       "      <th>2024-06-10 23:59:00</th>\n",
       "      <td>20414.000000</td>\n",
       "      <td>657128</td>\n",
       "    </tr>\n",
       "  </tbody>\n",
       "</table>\n",
       "<p>192094934 rows × 2 columns</p>\n",
       "</div>"
      ],
      "text/plain": [
       "                     power_consumption (mW) smart_plug\n",
       "time                                                  \n",
       "2023-09-14 18:16:00            30392.714286     180940\n",
       "2023-09-14 18:17:00            31416.000000     180940\n",
       "2023-09-14 18:18:00            30044.000000     180940\n",
       "2023-09-14 18:19:00            30740.000000     180940\n",
       "2023-09-14 18:20:00            29952.000000     180940\n",
       "...                                     ...        ...\n",
       "2024-06-10 23:55:00            20587.000000     657128\n",
       "2024-06-10 23:56:00            21240.000000     657128\n",
       "2024-06-10 23:57:00            20760.000000     657128\n",
       "2024-06-10 23:58:00            20532.000000     657128\n",
       "2024-06-10 23:59:00            20414.000000     657128\n",
       "\n",
       "[192094934 rows x 2 columns]"
      ]
     },
     "execution_count": 4,
     "metadata": {},
     "output_type": "execute_result"
    }
   ],
   "source": [
    "combined_df"
   ]
  },
  {
   "cell_type": "code",
   "execution_count": 5,
   "id": "dd05f9c3",
   "metadata": {},
   "outputs": [],
   "source": [
    "# Forward fill any missing values\n",
    "combined_df.fillna(method='ffill', inplace=True)"
   ]
  },
  {
   "cell_type": "code",
   "execution_count": 6,
   "id": "6c70de46",
   "metadata": {},
   "outputs": [
    {
     "ename": "MemoryError",
     "evalue": "Unable to allocate 1.43 GiB for an array with shape (192094934,) and data type uint64",
     "output_type": "error",
     "traceback": [
      "\u001b[1;31m---------------------------------------------------------------------------\u001b[0m",
      "\u001b[1;31mMemoryError\u001b[0m                               Traceback (most recent call last)",
      "Cell \u001b[1;32mIn[6], line 2\u001b[0m\n\u001b[0;32m      1\u001b[0m \u001b[38;5;66;03m# Add a new column for the day of the week\u001b[39;00m\n\u001b[1;32m----> 2\u001b[0m combined_df[\u001b[38;5;124m'\u001b[39m\u001b[38;5;124mDay of Week\u001b[39m\u001b[38;5;124m'\u001b[39m] \u001b[38;5;241m=\u001b[39m combined_df\u001b[38;5;241m.\u001b[39mindex\u001b[38;5;241m.\u001b[39mday_name()\n\u001b[0;32m      4\u001b[0m \u001b[38;5;66;03m# Convert all power consumption values from milliWatt to KW/h and rename appropriately\u001b[39;00m\n\u001b[0;32m      5\u001b[0m combined_df[\u001b[38;5;124m'\u001b[39m\u001b[38;5;124mpower_consumption (mW)\u001b[39m\u001b[38;5;124m'\u001b[39m] \u001b[38;5;241m=\u001b[39m combined_df[\u001b[38;5;124m'\u001b[39m\u001b[38;5;124mpower_consumption (mW)\u001b[39m\u001b[38;5;124m'\u001b[39m] \u001b[38;5;241m*\u001b[39m \u001b[38;5;241m60\u001b[39m \u001b[38;5;241m/\u001b[39m \u001b[38;5;241m1_000_000\u001b[39m\n",
      "File \u001b[1;32m~\\anaconda3\\Lib\\site-packages\\pandas\\core\\indexes\\extension.py:104\u001b[0m, in \u001b[0;36m_inherit_from_data.<locals>.method\u001b[1;34m(self, *args, **kwargs)\u001b[0m\n\u001b[0;32m    102\u001b[0m     \u001b[38;5;28;01melif\u001b[39;00m \u001b[38;5;28misinstance\u001b[39m(result, ABCDataFrame):\n\u001b[0;32m    103\u001b[0m         \u001b[38;5;28;01mreturn\u001b[39;00m result\u001b[38;5;241m.\u001b[39mset_index(\u001b[38;5;28mself\u001b[39m)\n\u001b[1;32m--> 104\u001b[0m     \u001b[38;5;28;01mreturn\u001b[39;00m Index(result, name\u001b[38;5;241m=\u001b[39m\u001b[38;5;28mself\u001b[39m\u001b[38;5;241m.\u001b[39mname)\n\u001b[0;32m    105\u001b[0m \u001b[38;5;28;01mreturn\u001b[39;00m result\n",
      "File \u001b[1;32m~\\anaconda3\\Lib\\site-packages\\pandas\\core\\indexes\\base.py:531\u001b[0m, in \u001b[0;36mIndex.__new__\u001b[1;34m(cls, data, dtype, copy, name, tupleize_cols, **kwargs)\u001b[0m\n\u001b[0;32m    528\u001b[0m arr \u001b[38;5;241m=\u001b[39m com\u001b[38;5;241m.\u001b[39masarray_tuplesafe(data, dtype\u001b[38;5;241m=\u001b[39m_dtype_obj)\n\u001b[0;32m    530\u001b[0m \u001b[38;5;28;01mif\u001b[39;00m dtype \u001b[38;5;129;01mis\u001b[39;00m \u001b[38;5;28;01mNone\u001b[39;00m:\n\u001b[1;32m--> 531\u001b[0m     arr \u001b[38;5;241m=\u001b[39m _maybe_cast_data_without_dtype(\n\u001b[0;32m    532\u001b[0m         arr, cast_numeric_deprecated\u001b[38;5;241m=\u001b[39m\u001b[38;5;28;01mTrue\u001b[39;00m\n\u001b[0;32m    533\u001b[0m     )\n\u001b[0;32m    534\u001b[0m     dtype \u001b[38;5;241m=\u001b[39m arr\u001b[38;5;241m.\u001b[39mdtype\n\u001b[0;32m    536\u001b[0m     \u001b[38;5;28;01mif\u001b[39;00m kwargs:\n",
      "File \u001b[1;32m~\\anaconda3\\Lib\\site-packages\\pandas\\core\\indexes\\base.py:7414\u001b[0m, in \u001b[0;36m_maybe_cast_data_without_dtype\u001b[1;34m(subarr, cast_numeric_deprecated)\u001b[0m\n\u001b[0;32m   7396\u001b[0m \u001b[38;5;28;01mdef\u001b[39;00m \u001b[38;5;21m_maybe_cast_data_without_dtype\u001b[39m(\n\u001b[0;32m   7397\u001b[0m     subarr: np\u001b[38;5;241m.\u001b[39mndarray, cast_numeric_deprecated: \u001b[38;5;28mbool\u001b[39m \u001b[38;5;241m=\u001b[39m \u001b[38;5;28;01mTrue\u001b[39;00m\n\u001b[0;32m   7398\u001b[0m ) \u001b[38;5;241m-\u001b[39m\u001b[38;5;241m>\u001b[39m ArrayLike:\n\u001b[0;32m   7399\u001b[0m \u001b[38;5;250m    \u001b[39m\u001b[38;5;124;03m\"\"\"\u001b[39;00m\n\u001b[0;32m   7400\u001b[0m \u001b[38;5;124;03m    If we have an arraylike input but no passed dtype, try to infer\u001b[39;00m\n\u001b[0;32m   7401\u001b[0m \u001b[38;5;124;03m    a supported dtype.\u001b[39;00m\n\u001b[1;32m   (...)\u001b[0m\n\u001b[0;32m   7411\u001b[0m \u001b[38;5;124;03m    np.ndarray or ExtensionArray\u001b[39;00m\n\u001b[0;32m   7412\u001b[0m \u001b[38;5;124;03m    \"\"\"\u001b[39;00m\n\u001b[1;32m-> 7414\u001b[0m     result \u001b[38;5;241m=\u001b[39m lib\u001b[38;5;241m.\u001b[39mmaybe_convert_objects(\n\u001b[0;32m   7415\u001b[0m         subarr,\n\u001b[0;32m   7416\u001b[0m         convert_datetime\u001b[38;5;241m=\u001b[39m\u001b[38;5;28;01mTrue\u001b[39;00m,\n\u001b[0;32m   7417\u001b[0m         convert_timedelta\u001b[38;5;241m=\u001b[39m\u001b[38;5;28;01mTrue\u001b[39;00m,\n\u001b[0;32m   7418\u001b[0m         convert_period\u001b[38;5;241m=\u001b[39m\u001b[38;5;28;01mTrue\u001b[39;00m,\n\u001b[0;32m   7419\u001b[0m         convert_interval\u001b[38;5;241m=\u001b[39m\u001b[38;5;28;01mTrue\u001b[39;00m,\n\u001b[0;32m   7420\u001b[0m         dtype_if_all_nat\u001b[38;5;241m=\u001b[39mnp\u001b[38;5;241m.\u001b[39mdtype(\u001b[38;5;124m\"\u001b[39m\u001b[38;5;124mdatetime64[ns]\u001b[39m\u001b[38;5;124m\"\u001b[39m),\n\u001b[0;32m   7421\u001b[0m     )\n\u001b[0;32m   7422\u001b[0m     \u001b[38;5;28;01mif\u001b[39;00m result\u001b[38;5;241m.\u001b[39mdtype\u001b[38;5;241m.\u001b[39mkind \u001b[38;5;129;01min\u001b[39;00m [\u001b[38;5;124m\"\u001b[39m\u001b[38;5;124mi\u001b[39m\u001b[38;5;124m\"\u001b[39m, \u001b[38;5;124m\"\u001b[39m\u001b[38;5;124mu\u001b[39m\u001b[38;5;124m\"\u001b[39m, \u001b[38;5;124m\"\u001b[39m\u001b[38;5;124mf\u001b[39m\u001b[38;5;124m\"\u001b[39m]:\n\u001b[0;32m   7423\u001b[0m         \u001b[38;5;28;01mif\u001b[39;00m \u001b[38;5;129;01mnot\u001b[39;00m cast_numeric_deprecated:\n\u001b[0;32m   7424\u001b[0m             \u001b[38;5;66;03m# i.e. we started with a list, not an ndarray[object]\u001b[39;00m\n",
      "File \u001b[1;32m~\\anaconda3\\Lib\\site-packages\\pandas\\_libs\\lib.pyx:2513\u001b[0m, in \u001b[0;36mpandas._libs.lib.maybe_convert_objects\u001b[1;34m()\u001b[0m\n",
      "\u001b[1;31mMemoryError\u001b[0m: Unable to allocate 1.43 GiB for an array with shape (192094934,) and data type uint64"
     ]
    }
   ],
   "source": [
    "# Add a new column for the day of the week\n",
    "combined_df['Day of Week'] = combined_df.index.day_name()\n",
    "\n",
    "# Convert all power consumption values from milliWatt to KW/h and rename appropriately\n",
    "combined_df['power_consumption (mW)'] = combined_df['power_consumption (mW)'] * 60 / 1_000_000\n",
    "combined_df.rename(columns = {'power_consumption (mW)': 'power_consumption (KW/h)'}, inplace=True)\n",
    "\n",
    "# Group by the day of the week and calculate the mean for each day\n",
    "daily_avg = building_metering.groupby('Day of Week').mean()"
   ]
  },
  {
   "cell_type": "code",
   "execution_count": null,
   "id": "4f3f3e42",
   "metadata": {},
   "outputs": [],
   "source": [
    "# Creating a bar graph that shows the average power consumption across the entire dataset for each day of the week\n",
    "\n",
    "import matplotlib.pyplot as plt\n",
    "import seaborn as sns\n",
    "import pandas as pd\n",
    "\n",
    "# Define the order of days to ensure the bars appear in the correct order\n",
    "day_order = ['Monday', 'Tuesday', 'Wednesday', 'Thursday', 'Friday', 'Saturday', 'Sunday']\n",
    "\n",
    "# Plot the chart\n",
    "plt.figure(figsize=(10, 6))\n",
    "plt.bar(day_order, daily_avg.loc[day_order, power_consumption (KW/h)], color='skyblue')\n",
    "plt.xlabel('Day of the Week')\n",
    "plt.ylabel('Average Power Consumption (KW/h)')\n",
    "plt.title(f'Average Power Consumption by Day of the Week - All Plugs')\n",
    "plt.tight_layout()\n",
    "plt.show()"
   ]
  },
  {
   "cell_type": "code",
   "execution_count": null,
   "id": "03ecd421",
   "metadata": {},
   "outputs": [],
   "source": []
  }
 ],
 "metadata": {
  "kernelspec": {
   "display_name": "Python 3 (ipykernel)",
   "language": "python",
   "name": "python3"
  },
  "language_info": {
   "codemirror_mode": {
    "name": "ipython",
    "version": 3
   },
   "file_extension": ".py",
   "mimetype": "text/x-python",
   "name": "python",
   "nbconvert_exporter": "python",
   "pygments_lexer": "ipython3",
   "version": "3.11.4"
  }
 },
 "nbformat": 4,
 "nbformat_minor": 5
}
