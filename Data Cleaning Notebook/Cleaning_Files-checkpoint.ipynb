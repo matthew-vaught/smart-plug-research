{
 "cells": [
  {
   "cell_type": "code",
   "execution_count": null,
   "id": "a860925f",
   "metadata": {},
   "outputs": [],
   "source": [
    "import pandas as pd\n",
    "import os"
   ]
  },
  {
   "cell_type": "code",
   "execution_count": null,
   "id": "609d51bc",
   "metadata": {},
   "outputs": [],
   "source": [
    "# Specify the directory where the files are located at\n",
    "directory = r'C:\\ResearchFiles\\AllFiles_Uncleaned'\n",
    "\n",
    "# Create a list of every file name in the specified directory as a string\n",
    "files = [f for f in os.listdir(directory) if os.path.isfile(os.path.join(directory, f))]"
   ]
  },
  {
   "cell_type": "code",
   "execution_count": null,
   "id": "fca03136",
   "metadata": {},
   "outputs": [],
   "source": [
    "# Print the list to make sure that the file names are correct\n",
    "print(files)"
   ]
  },
  {
   "cell_type": "code",
   "execution_count": null,
   "id": "89f90a2e",
   "metadata": {},
   "outputs": [],
   "source": [
    "# A function that will be applied to each file in the list and modify the data to clean it for future use\n",
    "def clean_data(df):\n",
    "    df = df.drop([0, 1]).drop(['#group', 'false', 'false.1', 'true', 'true.1', 'true.3', 'true.4', 'true.5'], axis = 1)\n",
    "    df.columns = df.iloc[0]\n",
    "    df = df.drop(2).rename(columns = {'_value': 'value', '_time': 'time', '_field': 'field'})\n",
    "    df['time'] = df['time'].str.slice(0, 16)\n",
    "    df['value'] = df['value'].astype(int)\n",
    "    df = df.pivot_table(index='time', columns='field', values='value', aggfunc='mean')\n",
    "    df.columns.name = None\n",
    "    df.columns = ['analogInput_2', 'analogInput_3', 'analogInput_4', 'analogInput_5', 'binaryInput_3', 'binaryValue_1']\n",
    "    return df"
   ]
  },
  {
   "cell_type": "code",
   "execution_count": null,
   "id": "09ad8c60",
   "metadata": {},
   "outputs": [],
   "source": [
    "for file in files:\n",
    "    file_path = os.path.join(directory, file)\n",
    "    \n",
    "    # Read the file\n",
    "    df = pd.read_csv(file_path, encoding='UTF-16', dtype = {\n",
    "    0: 'str',\n",
    "    1: 'str',\n",
    "    2: 'str',\n",
    "    6: 'str',\n",
    "    9: 'str',\n",
    "})\n",
    "    \n",
    "    # Clean the data\n",
    "    cleaned_df = clean_data(df)\n",
    "    \n",
    "    # Save the cleaned file\n",
    "    cleaned_file_path = os.path.join(r'C:\\ResearchFiles\\AllFiles_Cleaned', 'cleaned_' + file)\n",
    "    cleaned_df.to_csv(cleaned_file_path)\n",
    "    \n",
    "    # Print the output to confirm that the file has been cleaned and saved\n",
    "    print(f'{file} has been cleaned and saved as {cleaned_file_path}')"
   ]
  }
 ],
 "metadata": {
  "kernelspec": {
   "display_name": "Python 3 (ipykernel)",
   "language": "python",
   "name": "python3"
  },
  "language_info": {
   "codemirror_mode": {
    "name": "ipython",
    "version": 3
   },
   "file_extension": ".py",
   "mimetype": "text/x-python",
   "name": "python",
   "nbconvert_exporter": "python",
   "pygments_lexer": "ipython3",
   "version": "3.11.4"
  }
 },
 "nbformat": 4,
 "nbformat_minor": 5
}
